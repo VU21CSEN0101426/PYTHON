{
  "nbformat": 4,
  "nbformat_minor": 0,
  "metadata": {
    "colab": {
      "name": "dictionaries.main 2",
      "provenance": [],
      "authorship_tag": "ABX9TyNlaT4O9y+PoptvOOvX9B+x",
      "include_colab_link": true
    },
    "kernelspec": {
      "name": "python3",
      "display_name": "Python 3"
    },
    "language_info": {
      "name": "python"
    }
  },
  "cells": [
    {
      "cell_type": "markdown",
      "metadata": {
        "id": "view-in-github",
        "colab_type": "text"
      },
      "source": [
        "<a href=\"https://colab.research.google.com/github/VU21CSEN0101426/PYTHON/blob/main/dictionaries_main_2.ipynb\" target=\"_parent\"><img src=\"https://colab.research.google.com/assets/colab-badge.svg\" alt=\"Open In Colab\"/></a>"
      ]
    },
    {
      "cell_type": "markdown",
      "source": [
        "changing the value of a specific item by referring to its key name"
      ],
      "metadata": {
        "id": "kamZ5u5CMb2j"
      }
    },
    {
      "cell_type": "code",
      "source": [
        "car= {\n",
        "  \"brand\": \"Honda\",\n",
        "  \"model\": \"honda jazz\",\n",
        "  \"year\": 1948\n",
        "}\n",
        "car[\"year\"] = 2009\n",
        "print(car)\n"
      ],
      "metadata": {
        "colab": {
          "base_uri": "https://localhost:8080/"
        },
        "id": "VzWkrJnqMgWh",
        "outputId": "ab57f0d7-a5ba-41c1-d7a4-77fe5052441d"
      },
      "execution_count": 1,
      "outputs": [
        {
          "output_type": "stream",
          "name": "stdout",
          "text": [
            "{'brand': 'Honda', 'model': 'honda jazz', 'year': 2009}\n"
          ]
        }
      ]
    },
    {
      "cell_type": "markdown",
      "source": [
        "using update()"
      ],
      "metadata": {
        "id": "Ll3-tU73NMiv"
      }
    },
    {
      "cell_type": "code",
      "source": [
        "car= {\n",
        "  \"brand\": \"Honda\",\n",
        "  \"model\": \"honda jazz\",\n",
        "  \"year\": 1948\n",
        "}\n",
        "car.update({\"year\": 2009})\n",
        "print(car)\n"
      ],
      "metadata": {
        "colab": {
          "base_uri": "https://localhost:8080/"
        },
        "id": "FWr6Mi7uNQIq",
        "outputId": "fb466bc7-8d72-4f91-85eb-eb4c539891ff"
      },
      "execution_count": 4,
      "outputs": [
        {
          "output_type": "stream",
          "name": "stdout",
          "text": [
            "{'brand': 'Honda', 'model': 'honda jazz', 'year': 2009}\n"
          ]
        }
      ]
    },
    {
      "cell_type": "markdown",
      "source": [
        "adding the item to dictionaries"
      ],
      "metadata": {
        "id": "9p7cxsO0NqHo"
      }
    },
    {
      "cell_type": "code",
      "source": [
        "car= {\n",
        "  \"brand\": \"Honda\",\n",
        "  \"model\": \"honda jazz\",\n",
        "  \"year\": 1948\n",
        "}\n",
        "car[\"color\"]= \"red\"\n",
        "print(car)"
      ],
      "metadata": {
        "colab": {
          "base_uri": "https://localhost:8080/"
        },
        "id": "1WL0WjX8NQxL",
        "outputId": "137bcb14-af01-42f5-8c25-b23b7a426c19"
      },
      "execution_count": 5,
      "outputs": [
        {
          "output_type": "stream",
          "name": "stdout",
          "text": [
            "{'brand': 'Honda', 'model': 'honda jazz', 'year': 1948, 'color': 'red'}\n"
          ]
        }
      ]
    },
    {
      "cell_type": "markdown",
      "source": [
        "using pop()"
      ],
      "metadata": {
        "id": "7-WID7UYN_5v"
      }
    },
    {
      "cell_type": "code",
      "source": [
        "car= {\n",
        "  \"brand\": \"Honda\",\n",
        "  \"model\": \"honda jazz\",\n",
        "  \"year\": 1948\n",
        "}\n",
        "car.pop(\"model\")\n",
        "print(car)"
      ],
      "metadata": {
        "colab": {
          "base_uri": "https://localhost:8080/"
        },
        "id": "yGYNsIaiOEUR",
        "outputId": "cd214e50-fa49-499a-cb17-fa1a75d0afeb"
      },
      "execution_count": 8,
      "outputs": [
        {
          "output_type": "stream",
          "name": "stdout",
          "text": [
            "{'brand': 'Honda', 'year': 1948}\n"
          ]
        }
      ]
    },
    {
      "cell_type": "markdown",
      "source": [
        "using popitem()"
      ],
      "metadata": {
        "id": "0yGUInPQOYI4"
      }
    },
    {
      "cell_type": "code",
      "source": [
        "car= {\n",
        "  \"brand\": \"Honda\",\n",
        "  \"model\": \"honda jazz\",\n",
        "  \"year\": 1948\n",
        "}\n",
        "car.popitem()\n",
        "print(car)"
      ],
      "metadata": {
        "colab": {
          "base_uri": "https://localhost:8080/"
        },
        "id": "XaO7n6_AOYbw",
        "outputId": "f21fcfda-112e-4943-f5a8-fb4d4de35158"
      },
      "execution_count": 10,
      "outputs": [
        {
          "output_type": "stream",
          "name": "stdout",
          "text": [
            "{'brand': 'Honda', 'model': 'honda jazz'}\n"
          ]
        }
      ]
    },
    {
      "cell_type": "markdown",
      "source": [
        "using del\n",
        "The del keyword can also delete the dictionary completely:\n",
        "\n"
      ],
      "metadata": {
        "id": "WOfRStYYOw_u"
      }
    },
    {
      "cell_type": "code",
      "source": [
        "car= {\n",
        "  \"brand\": \"Honda\",\n",
        "  \"model\": \"honda jazz\",\n",
        "  \"year\": 1948\n",
        "}\n",
        "del car[\"brand\"]\n",
        "print(car)"
      ],
      "metadata": {
        "colab": {
          "base_uri": "https://localhost:8080/"
        },
        "id": "GzoB-kVnOz6Q",
        "outputId": "f030e86b-0dab-46f0-bd60-fb48b8a123fc"
      },
      "execution_count": 13,
      "outputs": [
        {
          "output_type": "stream",
          "name": "stdout",
          "text": [
            "{'model': 'honda jazz', 'year': 1948}\n"
          ]
        }
      ]
    },
    {
      "cell_type": "markdown",
      "source": [
        "The del keyword can also delete the dictionary completely:\n",
        "\n"
      ],
      "metadata": {
        "id": "26Bwj0jZPgoC"
      }
    },
    {
      "cell_type": "code",
      "source": [
        "car= {\n",
        "  \"brand\": \"Honda\",\n",
        "  \"model\": \"honda jazz\",\n",
        "  \"year\": 1948\n",
        "}\n",
        "del car\n",
        "print(car)"
      ],
      "metadata": {
        "colab": {
          "base_uri": "https://localhost:8080/",
          "height": 206
        },
        "id": "wL0iVkKmPHik",
        "outputId": "da40874d-9cbb-41e9-f6af-2e4434506b3b"
      },
      "execution_count": 16,
      "outputs": [
        {
          "output_type": "error",
          "ename": "NameError",
          "evalue": "ignored",
          "traceback": [
            "\u001b[0;31m---------------------------------------------------------------------------\u001b[0m",
            "\u001b[0;31mNameError\u001b[0m                                 Traceback (most recent call last)",
            "\u001b[0;32m<ipython-input-16-177db960d990>\u001b[0m in \u001b[0;36m<module>\u001b[0;34m()\u001b[0m\n\u001b[1;32m      5\u001b[0m }\n\u001b[1;32m      6\u001b[0m \u001b[0;32mdel\u001b[0m \u001b[0mcar\u001b[0m\u001b[0;34m\u001b[0m\u001b[0;34m\u001b[0m\u001b[0m\n\u001b[0;32m----> 7\u001b[0;31m \u001b[0mprint\u001b[0m\u001b[0;34m(\u001b[0m\u001b[0mcar\u001b[0m\u001b[0;34m)\u001b[0m\u001b[0;34m\u001b[0m\u001b[0;34m\u001b[0m\u001b[0m\n\u001b[0m",
            "\u001b[0;31mNameError\u001b[0m: name 'car' is not defined"
          ]
        }
      ]
    },
    {
      "cell_type": "markdown",
      "source": [
        "using clear()"
      ],
      "metadata": {
        "id": "ZEnsVtVsPjAl"
      }
    },
    {
      "cell_type": "code",
      "source": [
        "car= {\n",
        "  \"brand\": \"Honda\",\n",
        "  \"model\": \"honda jazz\",\n",
        "  \"year\": 1948\n",
        "}\n",
        "car.clear()\n",
        "print(car)"
      ],
      "metadata": {
        "colab": {
          "base_uri": "https://localhost:8080/"
        },
        "id": "z5EtQu8OPtXG",
        "outputId": "4dad952c-458c-43e8-ea82-e9a4f4eaa542"
      },
      "execution_count": 17,
      "outputs": [
        {
          "output_type": "stream",
          "name": "stdout",
          "text": [
            "{}\n"
          ]
        }
      ]
    },
    {
      "cell_type": "markdown",
      "source": [
        "By using for loop"
      ],
      "metadata": {
        "id": "9OPHAjzwQDLr"
      }
    },
    {
      "cell_type": "code",
      "source": [
        "car= {\n",
        "  \"brand\": \"Honda\",\n",
        "  \"model\": \"honda jazz\",\n",
        "  \"year\": 1948\n",
        "}\n",
        "for x in car:\n",
        "    print(x)"
      ],
      "metadata": {
        "colab": {
          "base_uri": "https://localhost:8080/"
        },
        "id": "boTMoSb5QHFP",
        "outputId": "a3bf731c-3dcf-46dc-f9e4-c2237df21450"
      },
      "execution_count": 18,
      "outputs": [
        {
          "output_type": "stream",
          "name": "stdout",
          "text": [
            "brand\n",
            "model\n",
            "year\n"
          ]
        }
      ]
    },
    {
      "cell_type": "code",
      "source": [
        "car= {\n",
        "  \"brand\": \"Honda\",\n",
        "  \"model\": \"honda jazz\",\n",
        "  \"year\": 1948\n",
        "}\n",
        "for x in car:\n",
        "    print(car[x])"
      ],
      "metadata": {
        "colab": {
          "base_uri": "https://localhost:8080/"
        },
        "id": "-bSWP_0cQeY2",
        "outputId": "40e30296-69c2-429e-d193-4d046dd7622c"
      },
      "execution_count": 19,
      "outputs": [
        {
          "output_type": "stream",
          "name": "stdout",
          "text": [
            "Honda\n",
            "honda jazz\n",
            "1948\n"
          ]
        }
      ]
    },
    {
      "cell_type": "markdown",
      "source": [
        "using values() in for loop"
      ],
      "metadata": {
        "id": "vCBfVetJQmvW"
      }
    },
    {
      "cell_type": "code",
      "source": [
        "car= {\n",
        "  \"brand\": \"Honda\",\n",
        "  \"model\": \"honda jazz\",\n",
        "  \"year\": 1948\n",
        "}\n",
        "for x in car.values():\n",
        "    print(x)"
      ],
      "metadata": {
        "colab": {
          "base_uri": "https://localhost:8080/"
        },
        "id": "Pbw0rSSRQtSW",
        "outputId": "b2d19ba4-5683-4df5-fbd1-77b7eb4e8a3c"
      },
      "execution_count": 24,
      "outputs": [
        {
          "output_type": "stream",
          "name": "stdout",
          "text": [
            "Honda\n",
            "honda jazz\n",
            "1948\n"
          ]
        }
      ]
    },
    {
      "cell_type": "markdown",
      "source": [
        "using keys() qin for loop"
      ],
      "metadata": {
        "id": "qZXERB1QRJVe"
      }
    },
    {
      "cell_type": "code",
      "source": [
        "car= {\n",
        "  \"brand\": \"Honda\",\n",
        "  \"model\": \"honda jazz\",\n",
        "  \"year\": 1948\n",
        "}\n",
        "for x in car.keys():\n",
        "    print(x)"
      ],
      "metadata": {
        "colab": {
          "base_uri": "https://localhost:8080/"
        },
        "id": "1zBWT5i1RNhJ",
        "outputId": "893e98d7-a06e-464d-bbff-21e050a564a6"
      },
      "execution_count": 26,
      "outputs": [
        {
          "output_type": "stream",
          "name": "stdout",
          "text": [
            "brand\n",
            "model\n",
            "year\n"
          ]
        }
      ]
    },
    {
      "cell_type": "markdown",
      "source": [
        "using items() in for loop"
      ],
      "metadata": {
        "id": "-9AK7ERgRYSO"
      }
    },
    {
      "cell_type": "code",
      "source": [
        "car= {\n",
        "  \"brand\": \"Honda\",\n",
        "  \"model\": \"honda jazz\",\n",
        "  \"year\": 1948\n",
        "}\n",
        "for x, y in car.items():\n",
        "    print(x,y)"
      ],
      "metadata": {
        "colab": {
          "base_uri": "https://localhost:8080/"
        },
        "id": "HR4LySI0Rh2n",
        "outputId": "a3d3a0f9-eff7-490c-b454-fdf35baf480c"
      },
      "execution_count": 30,
      "outputs": [
        {
          "output_type": "stream",
          "name": "stdout",
          "text": [
            "brand Honda\n",
            "model honda jazz\n",
            "year 1948\n"
          ]
        }
      ]
    },
    {
      "cell_type": "markdown",
      "source": [
        "using copy() method"
      ],
      "metadata": {
        "id": "TVQ5abNpR8wk"
      }
    },
    {
      "cell_type": "code",
      "source": [
        "car= {\n",
        "  \"brand\": \"Honda\",\n",
        "  \"model\": \"honda jazz\",\n",
        "  \"year\": 1948\n",
        "}\n",
        "company = car.copy()\n",
        "print(company)"
      ],
      "metadata": {
        "colab": {
          "base_uri": "https://localhost:8080/"
        },
        "id": "U7xQAHTUSAas",
        "outputId": "226b0f74-928c-4d51-9580-0bd2a1671788"
      },
      "execution_count": 31,
      "outputs": [
        {
          "output_type": "stream",
          "name": "stdout",
          "text": [
            "{'brand': 'Honda', 'model': 'honda jazz', 'year': 1948}\n"
          ]
        }
      ]
    },
    {
      "cell_type": "markdown",
      "source": [
        "using dict() method"
      ],
      "metadata": {
        "id": "1TlJ-HR2STZ9"
      }
    },
    {
      "cell_type": "code",
      "source": [
        "car= {\n",
        "  \"brand\": \"Honda\",\n",
        "  \"model\": \"honda jazz\",\n",
        "  \"year\": 1948\n",
        "}\n",
        "company = dict(car)\n",
        "print(company)"
      ],
      "metadata": {
        "colab": {
          "base_uri": "https://localhost:8080/"
        },
        "id": "5NncC4H-ShMG",
        "outputId": "8e103a50-0398-4bcf-d7eb-d461b5dd16fc"
      },
      "execution_count": 32,
      "outputs": [
        {
          "output_type": "stream",
          "name": "stdout",
          "text": [
            "{'brand': 'Honda', 'model': 'honda jazz', 'year': 1948}\n"
          ]
        }
      ]
    },
    {
      "cell_type": "markdown",
      "source": [
        "nested dictionaries"
      ],
      "metadata": {
        "id": "eRvA2KnCTW6F"
      }
    },
    {
      "cell_type": "code",
      "source": [
        "myfamily = {\n",
        "      \"child1\" :{\n",
        "      \"name\"   : \"Sri\",\n",
        "      \"age\"    : \"18\",\n",
        "      \"class\"  : \"10th\"\n",
        "  },\n",
        "      \"child2\" :{ \n",
        "      \"name\"   : \"Keerthi\",\n",
        "      \"age\"    : \"12\",\n",
        "      \"class\"  : \"7th\"\n",
        "  },\n",
        "      \"child3\" :{\n",
        "      \"name\"   : \"Sai\",\n",
        "      \"age\"    : \"10\",\n",
        "      \"class\"  : \"4th\"\n",
        "  }\n",
        "}\n",
        "print(myfamily)\n",
        "    \n"
      ],
      "metadata": {
        "colab": {
          "base_uri": "https://localhost:8080/"
        },
        "id": "0kyorBZvTbq7",
        "outputId": "7cf1660b-edca-4235-adc5-8ede057198ea"
      },
      "execution_count": 37,
      "outputs": [
        {
          "output_type": "stream",
          "name": "stdout",
          "text": [
            "{'child1': {'name': 'Sri', 'age': '18', 'class': '10th'}, 'child2': {'name': 'Keerthi', 'age': '12', 'class': '7th'}, 'child3': {'name': 'Sai', 'age': '10', 'class': '4th'}}\n"
          ]
        }
      ]
    },
    {
      "cell_type": "code",
      "source": [
        "child1 = {\n",
        "      \"name\"   : \"Sri\",\n",
        "      \"age\"    : \"18\",\n",
        "      \"class\"  : \"10th\"\n",
        "  },\n",
        "child2 = { \n",
        "      \"name\"   : \"Keerthi\",\n",
        "      \"age\"    : \"12\",\n",
        "      \"class\"  : \"7th\"\n",
        "  },\n",
        "child3 ={\n",
        "      \"name\"   : \"Sai\",\n",
        "      \"age\"    : \"10\",\n",
        "      \"class\"  : \"4th\"\n",
        "  }\n",
        "    \n",
        "myfamily ={\n",
        "       \"child1\":child1,\n",
        "       \"child2\":child2,\n",
        "       \"child3\":child3\n",
        "}    \n",
        "print(myfamily)"
      ],
      "metadata": {
        "colab": {
          "base_uri": "https://localhost:8080/"
        },
        "id": "7NqjEnslVpRm",
        "outputId": "42907256-bdb4-4b0b-b0f8-c6b3490eca57"
      },
      "execution_count": 40,
      "outputs": [
        {
          "output_type": "stream",
          "name": "stdout",
          "text": [
            "{'child1': ({'name': 'Sri', 'age': '18', 'class': '10th'},), 'child2': ({'name': 'Keerthi', 'age': '12', 'class': '7th'},), 'child3': {'name': 'Sai', 'age': '10', 'class': '4th'}}\n"
          ]
        }
      ]
    }
  ]
}