{
  "nbformat": 4,
  "nbformat_minor": 0,
  "metadata": {
    "colab": {
      "name": "SETS",
      "provenance": [],
      "authorship_tag": "ABX9TyP2UIPzAqPK0ObzQgMEV1ti",
      "include_colab_link": true
    },
    "kernelspec": {
      "name": "python3",
      "display_name": "Python 3"
    },
    "language_info": {
      "name": "python"
    }
  },
  "cells": [
    {
      "cell_type": "markdown",
      "metadata": {
        "id": "view-in-github",
        "colab_type": "text"
      },
      "source": [
        "<a href=\"https://colab.research.google.com/github/VU21CSEN0101426/PYTHON/blob/main/SETS.ipynb\" target=\"_parent\"><img src=\"https://colab.research.google.com/assets/colab-badge.svg\" alt=\"Open In Colab\"/></a>"
      ]
    },
    {
      "cell_type": "code",
      "execution_count": null,
      "metadata": {
        "colab": {
          "base_uri": "https://localhost:8080/"
        },
        "id": "8SBrJGcYLlbC",
        "outputId": "0b56857c-7bfb-40a7-f758-9ccffd1a85fd"
      },
      "outputs": [
        {
          "output_type": "stream",
          "name": "stdout",
          "text": [
            "{'mango', 'banana', 'cherry', 'berry'}\n"
          ]
        }
      ],
      "source": [
        "fruit={\"mango\",\"berry\",\"cherry\",\"banana\"}\n",
        "print(fruit)"
      ]
    },
    {
      "cell_type": "code",
      "source": [
        "fruit={\"mango\",\"berry\",\"cherry\",\"banana\",\"apple\"}\n",
        "print(len(fruit))"
      ],
      "metadata": {
        "colab": {
          "base_uri": "https://localhost:8080/"
        },
        "id": "n7kJPf3oMOmm",
        "outputId": "63d0ae49-930a-4d3f-ff6e-436a8108f5df"
      },
      "execution_count": null,
      "outputs": [
        {
          "output_type": "stream",
          "name": "stdout",
          "text": [
            "5\n"
          ]
        }
      ]
    },
    {
      "cell_type": "markdown",
      "source": [
        "type of set"
      ],
      "metadata": {
        "id": "4fantUtdPR1N"
      }
    },
    {
      "cell_type": "code",
      "source": [
        "fruit={\"mango\",\"berry\",\"cherry\",\"banana\"}\n",
        "print(type(fruit))"
      ],
      "metadata": {
        "colab": {
          "base_uri": "https://localhost:8080/"
        },
        "id": "WJB67n6KM1lE",
        "outputId": "90249a6e-3676-4983-93d8-d827cbfe943c"
      },
      "execution_count": null,
      "outputs": [
        {
          "output_type": "stream",
          "name": "stdout",
          "text": [
            "<class 'set'>\n"
          ]
        }
      ]
    },
    {
      "cell_type": "code",
      "source": [
        "for loop in sets"
      ],
      "metadata": {
        "id": "20FQTE44PXqV"
      },
      "execution_count": null,
      "outputs": []
    },
    {
      "cell_type": "code",
      "source": [
        "fruit={\"mango\",\"berry\",\"cherry\",\"banana\"}\n",
        "for x in  fruit:\n",
        "  print (x)"
      ],
      "metadata": {
        "colab": {
          "base_uri": "https://localhost:8080/"
        },
        "id": "_xMOzkKwNm1V",
        "outputId": "9b25d948-1c2d-47eb-9fa1-9adde0f450d4"
      },
      "execution_count": null,
      "outputs": [
        {
          "output_type": "stream",
          "name": "stdout",
          "text": [
            "mango\n",
            "banana\n",
            "cherry\n",
            "berry\n"
          ]
        }
      ]
    },
    {
      "cell_type": "code",
      "source": [
        "fruit={\"mango\",\"berry\",\"cherry\",\"banana\"}\n",
        "print(\"mango\" in fruit)"
      ],
      "metadata": {
        "colab": {
          "base_uri": "https://localhost:8080/"
        },
        "id": "vRHZIJFYOvN1",
        "outputId": "6dc09962-af89-406a-92c0-b06368e21587"
      },
      "execution_count": null,
      "outputs": [
        {
          "output_type": "stream",
          "name": "stdout",
          "text": [
            "True\n"
          ]
        }
      ]
    },
    {
      "cell_type": "markdown",
      "source": [
        "using append in lists"
      ],
      "metadata": {
        "id": "5KpVcwPnPwWf"
      }
    },
    {
      "cell_type": "code",
      "source": [
        "fruit=[\"mango\",\"berry\",\"cherry\",\"banana\"]\n",
        "fruit.append(\"orange\")\n",
        "print(fruit)"
      ],
      "metadata": {
        "colab": {
          "base_uri": "https://localhost:8080/"
        },
        "id": "jXJ8CwpXO6xX",
        "outputId": "bc760a47-95d6-4ffc-8ee9-75c29a9b1543"
      },
      "execution_count": null,
      "outputs": [
        {
          "output_type": "stream",
          "name": "stdout",
          "text": [
            "['mango', 'berry', 'cherry', 'banana', 'orange']\n"
          ]
        }
      ]
    },
    {
      "cell_type": "markdown",
      "source": [
        "using add in sets\n"
      ],
      "metadata": {
        "id": "OUnFOfIwP1sW"
      }
    },
    {
      "cell_type": "code",
      "source": [
        "fruit={\"mango\",\"berry\",\"cherry\",\"banana\",\"orange\",\"kiwi\"}\n",
        "fruit.add(\"apple\")\n",
        "print(fruit)"
      ],
      "metadata": {
        "colab": {
          "base_uri": "https://localhost:8080/"
        },
        "id": "w8yPn8HVP5CV",
        "outputId": "dbbc55ce-0786-435d-ef98-c597979363a7"
      },
      "execution_count": null,
      "outputs": [
        {
          "output_type": "stream",
          "name": "stdout",
          "text": [
            "{'mango', 'berry', 'orange', 'apple', 'kiwi', 'banana', 'cherry'}\n"
          ]
        }
      ]
    },
    {
      "cell_type": "markdown",
      "source": [
        "we use update in sets"
      ],
      "metadata": {
        "id": "kpdhEfdLQT_e"
      }
    },
    {
      "cell_type": "code",
      "source": [
        "fruit={\"mango\",\"berry\",\"cherry\",\"banana\"}\n",
        "flower={\"lily\",\"rose\",\"jasmine\"}\n",
        "fruit.update(flower)\n",
        "print(fruit)"
      ],
      "metadata": {
        "colab": {
          "base_uri": "https://localhost:8080/"
        },
        "id": "iFBR3QuoQsgO",
        "outputId": "cf6a0804-243a-4c25-95c0-a9dfe6843011"
      },
      "execution_count": null,
      "outputs": [
        {
          "output_type": "stream",
          "name": "stdout",
          "text": [
            "{'mango', 'berry', 'rose', 'jasmine', 'lily', 'banana', 'cherry'}\n"
          ]
        }
      ]
    },
    {
      "cell_type": "markdown",
      "source": [
        "adding lists and sets in one "
      ],
      "metadata": {
        "id": "bvXVoJl0Sph9"
      }
    },
    {
      "cell_type": "code",
      "source": [
        "fruit={\"mango\",\"berry\",\"cherry\",\"banana\"}\n",
        "flower=[\"lily\",\"rose\",\"jasmine\"]\n",
        "fruit.update(flower)\n",
        "print(fruit)"
      ],
      "metadata": {
        "colab": {
          "base_uri": "https://localhost:8080/"
        },
        "id": "9ztesI3gSnRm",
        "outputId": "16d14b65-ff05-45ac-d60e-2d3c0b433768"
      },
      "execution_count": null,
      "outputs": [
        {
          "output_type": "stream",
          "name": "stdout",
          "text": [
            "{'mango', 'berry', 'rose', 'orange', 'lily', 'apple', 'jasmine', 'kiwi', 'banana', 'cherry'}\n"
          ]
        }
      ]
    },
    {
      "cell_type": "markdown",
      "source": [
        "using remove in sets"
      ],
      "metadata": {
        "id": "bLUgM5cCTY3O"
      }
    },
    {
      "cell_type": "code",
      "source": [
        "fruit={\"mango\",\"berry\",\"cherry\",\"banana\"}\n",
        "fruit.remove(\"mango\")\n",
        "print(fruit)"
      ],
      "metadata": {
        "colab": {
          "base_uri": "https://localhost:8080/"
        },
        "id": "aBHR-7K2TVrX",
        "outputId": "1c49ab9b-a131-4f80-b65e-bae3213be7c7"
      },
      "execution_count": null,
      "outputs": [
        {
          "output_type": "stream",
          "name": "stdout",
          "text": [
            "{'banana', 'cherry', 'berry'}\n"
          ]
        }
      ]
    },
    {
      "cell_type": "code",
      "source": [
        "fruit={\"mango\",\"berry\",\"cherry\",\"banana\"}\n",
        "fruit.discard(\"banana\")\n",
        "print(fruit)"
      ],
      "metadata": {
        "colab": {
          "base_uri": "https://localhost:8080/"
        },
        "id": "qmrYY7T_T77d",
        "outputId": "70d04c7d-2f70-4bbf-dbea-1ce2b07e561c"
      },
      "execution_count": null,
      "outputs": [
        {
          "output_type": "stream",
          "name": "stdout",
          "text": [
            "{'mango', 'cherry', 'berry'}\n"
          ]
        }
      ]
    },
    {
      "cell_type": "code",
      "source": [
        "fruit={\"mango\",\"berry\",\"cherry\",\"banana\"}\n",
        "fruit.pop()\n",
        "print(fruit)"
      ],
      "metadata": {
        "colab": {
          "base_uri": "https://localhost:8080/"
        },
        "id": "WvBjg-X7UJ_W",
        "outputId": "333d399a-4668-420a-b061-d1e9c63bb5dc"
      },
      "execution_count": null,
      "outputs": [
        {
          "output_type": "stream",
          "name": "stdout",
          "text": [
            "{'banana', 'cherry', 'berry'}\n"
          ]
        }
      ]
    },
    {
      "cell_type": "code",
      "source": [
        "fruit={\"mango\",\"berry\",\"cherry\",\"banana\"}\n",
        "fruit.clear()\n",
        "print(fruit)"
      ],
      "metadata": {
        "colab": {
          "base_uri": "https://localhost:8080/"
        },
        "id": "nSPwNDk3UYNW",
        "outputId": "44ce4bc4-307f-4799-c5ea-eea5c06c5fbe"
      },
      "execution_count": null,
      "outputs": [
        {
          "output_type": "stream",
          "name": "stdout",
          "text": [
            "set()\n"
          ]
        }
      ]
    },
    {
      "cell_type": "markdown",
      "source": [
        "using union"
      ],
      "metadata": {
        "id": "1kKr2RmxUtXF"
      }
    },
    {
      "cell_type": "code",
      "source": [
        "fruit={\"mango\",\"berry\",\"cherry\",\"banana\"}\n",
        "flower={\"lily\",\"rose\",\"jasmine\"}\n",
        "thing=flower.union(fruit)\n",
        "print(thing)"
      ],
      "metadata": {
        "colab": {
          "base_uri": "https://localhost:8080/"
        },
        "id": "jZdM3Qn0Uvdd",
        "outputId": "0803c557-11df-4c38-917f-b02ed64bf8f7"
      },
      "execution_count": null,
      "outputs": [
        {
          "output_type": "stream",
          "name": "stdout",
          "text": [
            "{'mango', 'rose', 'berry', 'jasmine', 'lily', 'banana', 'cherry'}\n"
          ]
        }
      ]
    },
    {
      "cell_type": "markdown",
      "source": [
        "using update for the two sets"
      ],
      "metadata": {
        "id": "zzOvl13zVRf3"
      }
    },
    {
      "cell_type": "code",
      "source": [
        "fruit={\"mango\",\"berry\",\"cherry\",\"banana\"}\n",
        "flower={\"lily\",\"rose\",\"jasmine\"}\n",
        "fruit.update(flower)\n",
        "print(fruit)"
      ],
      "metadata": {
        "colab": {
          "base_uri": "https://localhost:8080/"
        },
        "id": "LbOk1qNYVoPG",
        "outputId": "3e7b323a-ac40-4e2a-c742-273d44b4175f"
      },
      "execution_count": null,
      "outputs": [
        {
          "output_type": "stream",
          "name": "stdout",
          "text": [
            "{'mango', 'berry', 'rose', 'jasmine', 'lily', 'banana', 'cherry'}\n"
          ]
        }
      ]
    },
    {
      "cell_type": "markdown",
      "source": [
        "using insertion_update for two sets directly"
      ],
      "metadata": {
        "id": "Is5yAN3ZWOxG"
      }
    },
    {
      "cell_type": "code",
      "source": [
        "x={\"mango\",\"berry\",\"cherry\",\"banana\"}\n",
        "y={\"google\",\"insta\",\"cherry\",\"mango\"}\n",
        "x.intersection_update(y)\n",
        "print(x)"
      ],
      "metadata": {
        "colab": {
          "base_uri": "https://localhost:8080/"
        },
        "id": "ooN7NksqVvDg",
        "outputId": "1fe948e5-f88d-4aa9-bbdb-f2cadd40484d"
      },
      "execution_count": null,
      "outputs": [
        {
          "output_type": "stream",
          "name": "stdout",
          "text": [
            "{'mango', 'cherry'}\n"
          ]
        }
      ]
    },
    {
      "cell_type": "markdown",
      "source": [
        "using insertion for two sets by naming to other element "
      ],
      "metadata": {
        "id": "lSp7kNyYWTq2"
      }
    },
    {
      "cell_type": "code",
      "source": [
        "x={\"mango\",\"berry\",\"cherry\",\"banana\"}\n",
        "y={\"google\",\"insta\",\"cherry\",\"mango\"}\n",
        "z= x.intersection(y)\n",
        "print(z)"
      ],
      "metadata": {
        "colab": {
          "base_uri": "https://localhost:8080/"
        },
        "id": "VVuY2PhVWz6f",
        "outputId": "0a5e6faf-d333-4afb-8383-8b3fd64140f4"
      },
      "execution_count": 43,
      "outputs": [
        {
          "output_type": "stream",
          "name": "stdout",
          "text": [
            "{'mango', 'cherry'}\n"
          ]
        }
      ]
    },
    {
      "cell_type": "markdown",
      "source": [
        "using symmetric_difference_update for two sets"
      ],
      "metadata": {
        "id": "Ehwol1FkXB4e"
      }
    },
    {
      "cell_type": "code",
      "source": [
        "x={\"mango\",\"berry\",\"cherry\",\"banana\"}\n",
        "y={\"google\",\"insta\",\"cherry\",\"mango\"}\n",
        "x.symmetric_difference_update(y)\n",
        "print(x)"
      ],
      "metadata": {
        "colab": {
          "base_uri": "https://localhost:8080/"
        },
        "id": "hLtwXhv9XKV2",
        "outputId": "4d66a72e-3e61-4417-a543-5625f3cab8c2"
      },
      "execution_count": 47,
      "outputs": [
        {
          "output_type": "stream",
          "name": "stdout",
          "text": [
            "{'berry', 'insta', 'banana', 'google'}\n"
          ]
        }
      ]
    },
    {
      "cell_type": "markdown",
      "source": [
        "using symmetric_difference for two sets by naming to other element "
      ],
      "metadata": {
        "id": "z7m6oF9ZXgjt"
      }
    },
    {
      "cell_type": "code",
      "source": [
        "x={\"mango\",\"berry\",\"cherry\",\"banana\"}\n",
        "y={\"google\",\"insta\",\"cherry\",\"mango\"}\n",
        "z=x.symmetric_difference(y)\n",
        "print(z)"
      ],
      "metadata": {
        "colab": {
          "base_uri": "https://localhost:8080/"
        },
        "id": "7ZbOnPuiXz1v",
        "outputId": "44911f88-1b1f-4849-e98e-b5fecb495449"
      },
      "execution_count": 50,
      "outputs": [
        {
          "output_type": "stream",
          "name": "stdout",
          "text": [
            "{'berry', 'insta', 'banana', 'google'}\n"
          ]
        }
      ]
    },
    {
      "cell_type": "code",
      "source": [
        ""
      ],
      "metadata": {
        "id": "ra5dejSuZGQX"
      },
      "execution_count": null,
      "outputs": []
    }
  ]
}