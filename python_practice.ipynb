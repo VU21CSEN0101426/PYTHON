{
  "cells": [
    {
      "cell_type": "markdown",
      "metadata": {
        "id": "view-in-github",
        "colab_type": "text"
      },
      "source": [
        "<a href=\"https://colab.research.google.com/github/VU21CSEN0101426/PYTHON/blob/main/python_practice.ipynb\" target=\"_parent\"><img src=\"https://colab.research.google.com/assets/colab-badge.svg\" alt=\"Open In Colab\"/></a>"
      ]
    },
    {
      "cell_type": "markdown",
      "id": "09025c35",
      "metadata": {
        "id": "09025c35"
      },
      "source": [
        "## average of three numbers"
      ]
    },
    {
      "cell_type": "code",
      "execution_count": null,
      "id": "4e6c89cf",
      "metadata": {
        "id": "4e6c89cf",
        "outputId": "cc9ec8ed-af76-4f33-f024-68e6745109ee"
      },
      "outputs": [
        {
          "name": "stdout",
          "output_type": "stream",
          "text": [
            "20.0\n",
            "<class 'float'>\n"
          ]
        }
      ],
      "source": [
        "a=10\n",
        "b=20\n",
        "c=30\n",
        "avg=(a+b+c)/3\n",
        "print(avg)\n",
        "print(type(avg))\n"
      ]
    },
    {
      "cell_type": "markdown",
      "id": "08d12360",
      "metadata": {
        "id": "08d12360"
      },
      "source": [
        "## multiplication of three numbers"
      ]
    },
    {
      "cell_type": "code",
      "execution_count": null,
      "id": "7d3ea25f",
      "metadata": {
        "id": "7d3ea25f",
        "outputId": "ac4d74c4-fc34-4f58-8c1a-cc9b61ef5365"
      },
      "outputs": [
        {
          "name": "stdout",
          "output_type": "stream",
          "text": [
            "782\n"
          ]
        }
      ],
      "source": [
        "a=34\n",
        "b=23\n",
        "c=1\n",
        "mul=a*b*c\n",
        "print(mul)"
      ]
    },
    {
      "cell_type": "markdown",
      "id": "3f289631",
      "metadata": {
        "id": "3f289631"
      },
      "source": [
        "## dynamic addition of two numbers"
      ]
    },
    {
      "cell_type": "code",
      "execution_count": null,
      "id": "675b741e",
      "metadata": {
        "id": "675b741e",
        "outputId": "ecce66a3-11a3-48ca-d299-67995f1e9b6d"
      },
      "outputs": [
        {
          "name": "stdout",
          "output_type": "stream",
          "text": [
            "enter the number13\n",
            "enter the number12\n",
            "25\n"
          ]
        }
      ],
      "source": [
        "a=int(input(\"enter the number\"))\n",
        "b=int(input(\"enter the number\"))\n",
        "add=a+b\n",
        "print(add)"
      ]
    },
    {
      "cell_type": "markdown",
      "id": "c1b2f998",
      "metadata": {
        "id": "c1b2f998"
      },
      "source": [
        "## dynamic multiplication of two numbers"
      ]
    },
    {
      "cell_type": "code",
      "execution_count": null,
      "id": "3b9f9432",
      "metadata": {
        "id": "3b9f9432",
        "outputId": "fd8f5fdd-33d9-4c3e-c1e4-f36268d809bd"
      },
      "outputs": [
        {
          "name": "stdout",
          "output_type": "stream",
          "text": [
            "enter the number2\n",
            "enter the number3\n",
            "6\n"
          ]
        }
      ],
      "source": [
        "a=int(input(\"enter the number\"))\n",
        "b=int(input(\"enter the number\"))\n",
        "mul=a*b\n",
        "print(mul)\n"
      ]
    },
    {
      "cell_type": "markdown",
      "id": "8f9fb65e",
      "metadata": {
        "id": "8f9fb65e"
      },
      "source": [
        ""
      ]
    },
    {
      "cell_type": "markdown",
      "id": "1d691138",
      "metadata": {
        "id": "1d691138"
      },
      "source": [
        "## average of three numbers"
      ]
    },
    {
      "cell_type": "code",
      "execution_count": null,
      "id": "d8fd41a3",
      "metadata": {
        "id": "d8fd41a3",
        "outputId": "0b735b31-29ba-42f6-9794-0e32df34579d"
      },
      "outputs": [
        {
          "name": "stdout",
          "output_type": "stream",
          "text": [
            "enter the number2\n",
            "enter the number3\n",
            "enter the number4\n",
            "3.0\n"
          ]
        }
      ],
      "source": [
        "a=int(input(\"enter the number\"))\n",
        "b=int(input(\"enter the number\"))\n",
        "c=int(input(\"enter the number\"))\n",
        "avg=(a+b+c)/3\n",
        "print(avg)"
      ]
    },
    {
      "cell_type": "markdown",
      "id": "d5d8f8c6",
      "metadata": {
        "id": "d5d8f8c6"
      },
      "source": [
        "# conversion\n",
        "## convert int to float"
      ]
    },
    {
      "cell_type": "code",
      "execution_count": null,
      "id": "5daa25e6",
      "metadata": {
        "id": "5daa25e6",
        "outputId": "6f584380-af99-40ea-9c4d-785cbbcddc33"
      },
      "outputs": [
        {
          "name": "stdout",
          "output_type": "stream",
          "text": [
            "<class 'int'>\n",
            "<class 'float'>\n",
            "10.0\n"
          ]
        }
      ],
      "source": [
        "a=10\n",
        "print(type(a))\n",
        "b=float(a)\n",
        "print(type(b))\n",
        "print(b)"
      ]
    },
    {
      "cell_type": "markdown",
      "id": "22d4d778",
      "metadata": {
        "id": "22d4d778"
      },
      "source": [
        "## convert float to int"
      ]
    },
    {
      "cell_type": "code",
      "execution_count": null,
      "id": "bdd8155f",
      "metadata": {
        "id": "bdd8155f",
        "outputId": "c7db2779-8228-4104-aa11-2f8fe9ce6ddf"
      },
      "outputs": [
        {
          "name": "stdout",
          "output_type": "stream",
          "text": [
            "<class 'float'>\n",
            "<class 'int'>\n",
            "34\n"
          ]
        }
      ],
      "source": [
        "a=34.89\n",
        "b=int(a)\n",
        "print(type(a))\n",
        "print(type(b))\n",
        "print(b)"
      ]
    },
    {
      "cell_type": "markdown",
      "id": "6c5c1de1",
      "metadata": {
        "id": "6c5c1de1"
      },
      "source": [
        "## convert float to string"
      ]
    },
    {
      "cell_type": "code",
      "execution_count": null,
      "id": "f5805ca0",
      "metadata": {
        "id": "f5805ca0",
        "outputId": "7a39a4c2-bffc-4b47-ec8f-e704c098d2c0"
      },
      "outputs": [
        {
          "name": "stdout",
          "output_type": "stream",
          "text": [
            "<class 'float'>\n",
            "<class 'str'>\n",
            "34.45\n"
          ]
        }
      ],
      "source": [
        "a=34.45\n",
        "b=str(a)\n",
        "print(type(a))\n",
        "print(type(b))\n",
        "print(b)"
      ]
    },
    {
      "cell_type": "markdown",
      "id": "84dc673e",
      "metadata": {
        "id": "84dc673e"
      },
      "source": [
        "## convert string to int(only numbers are possible, letters are not possible)"
      ]
    },
    {
      "cell_type": "code",
      "execution_count": null,
      "id": "7e5f2da3",
      "metadata": {
        "id": "7e5f2da3",
        "outputId": "90d6564d-c57e-4414-a434-5d958e3cf73c"
      },
      "outputs": [
        {
          "name": "stdout",
          "output_type": "stream",
          "text": [
            "<class 'str'>\n",
            "<class 'int'>\n",
            "34\n"
          ]
        }
      ],
      "source": [
        "a=\"34\"\n",
        "b=int(a)\n",
        "print(type(a))\n",
        "print(type(b))\n",
        "print(b)\n"
      ]
    },
    {
      "cell_type": "markdown",
      "id": "18dbb101",
      "metadata": {
        "id": "18dbb101"
      },
      "source": [
        "## convert int to string"
      ]
    },
    {
      "cell_type": "code",
      "execution_count": null,
      "id": "8e601676",
      "metadata": {
        "id": "8e601676",
        "outputId": "7364b047-d8c9-4a42-edde-d3934455e682"
      },
      "outputs": [
        {
          "name": "stdout",
          "output_type": "stream",
          "text": [
            "<class 'int'>\n",
            "<class 'str'>\n",
            "21\n"
          ]
        }
      ],
      "source": [
        "a=21\n",
        "b=str(a)\n",
        "print(type(a))\n",
        "print(type(b))\n",
        "print(b)"
      ]
    },
    {
      "cell_type": "markdown",
      "id": "cf353705",
      "metadata": {
        "id": "cf353705"
      },
      "source": [
        "## boolean"
      ]
    },
    {
      "cell_type": "code",
      "execution_count": null,
      "id": "6c97d997",
      "metadata": {
        "id": "6c97d997",
        "outputId": "28c33733-7c08-4b4b-d14d-a576e6f6bca6"
      },
      "outputs": [
        {
          "name": "stdout",
          "output_type": "stream",
          "text": [
            "False\n",
            "False\n"
          ]
        }
      ],
      "source": [
        "a=0\n",
        "b=0\n",
        "print(bool(a))\n",
        "print(bool(b))\n"
      ]
    },
    {
      "cell_type": "markdown",
      "id": "390b67d0",
      "metadata": {
        "id": "390b67d0"
      },
      "source": [
        "## boolean to int"
      ]
    },
    {
      "cell_type": "code",
      "execution_count": null,
      "id": "b9109f3d",
      "metadata": {
        "scrolled": true,
        "id": "b9109f3d",
        "outputId": "80f27ca8-ce7e-41cd-9784-3e80e4522bb8"
      },
      "outputs": [
        {
          "name": "stdout",
          "output_type": "stream",
          "text": [
            "<class 'bool'>\n",
            "False\n",
            "<class 'int'>\n",
            "False\n"
          ]
        }
      ],
      "source": [
        "a=bool(0)\n",
        "print(type(a))\n",
        "print(bool(a))\n",
        "b=int(0)\n",
        "print(type(b))\n",
        "print(bool(b))"
      ]
    },
    {
      "cell_type": "markdown",
      "id": "4e0874e0",
      "metadata": {
        "id": "4e0874e0"
      },
      "source": [
        "## boolean to float"
      ]
    },
    {
      "cell_type": "code",
      "execution_count": null,
      "id": "eacbafe7",
      "metadata": {
        "id": "eacbafe7",
        "outputId": "b42c42fa-3513-4951-cb73-b9952a9ffdbc"
      },
      "outputs": [
        {
          "name": "stdout",
          "output_type": "stream",
          "text": [
            "<class 'bool'>\n",
            "True\n",
            "<class 'float'>\n",
            "False\n"
          ]
        }
      ],
      "source": [
        "a=bool(1)\n",
        "print(type(a))\n",
        "print(bool(a))\n",
        "b=float(0)\n",
        "print(type(b))\n",
        "print(bool(b))\n"
      ]
    },
    {
      "cell_type": "markdown",
      "id": "5c709421",
      "metadata": {
        "id": "5c709421"
      },
      "source": [
        "## boolean to string"
      ]
    },
    {
      "cell_type": "code",
      "execution_count": null,
      "id": "48f60f05",
      "metadata": {
        "id": "48f60f05",
        "outputId": "ccdcc8e1-911b-4677-8181-3f462d188949"
      },
      "outputs": [
        {
          "name": "stdout",
          "output_type": "stream",
          "text": [
            "<class 'bool'>\n",
            "True\n",
            "<class 'str'>\n",
            "True\n"
          ]
        }
      ],
      "source": [
        "a=bool(1)\n",
        "print(type(a))\n",
        "print(bool(a))\n",
        "b=str(0)\n",
        "print(type(b))\n",
        "print(bool(b))"
      ]
    },
    {
      "cell_type": "markdown",
      "id": "84ddcdb4",
      "metadata": {
        "id": "84ddcdb4"
      },
      "source": [
        "## complex"
      ]
    },
    {
      "cell_type": "code",
      "execution_count": null,
      "id": "205559b1",
      "metadata": {
        "id": "205559b1"
      },
      "outputs": [],
      "source": [
        ""
      ]
    }
  ],
  "metadata": {
    "kernelspec": {
      "display_name": "Python 3 (ipykernel)",
      "language": "python",
      "name": "python3"
    },
    "language_info": {
      "codemirror_mode": {
        "name": "ipython",
        "version": 3
      },
      "file_extension": ".py",
      "mimetype": "text/x-python",
      "name": "python",
      "nbconvert_exporter": "python",
      "pygments_lexer": "ipython3",
      "version": "3.9.7"
    },
    "colab": {
      "name": "python practice.ipynb",
      "provenance": [],
      "include_colab_link": true
    }
  },
  "nbformat": 4,
  "nbformat_minor": 5
}