{
  "nbformat": 4,
  "nbformat_minor": 0,
  "metadata": {
    "colab": {
      "name": "functions in python(1)",
      "provenance": [],
      "authorship_tag": "ABX9TyNijSowqxsa9Jj/UvH2I4lH",
      "include_colab_link": true
    },
    "kernelspec": {
      "name": "python3",
      "display_name": "Python 3"
    },
    "language_info": {
      "name": "python"
    }
  },
  "cells": [
    {
      "cell_type": "markdown",
      "metadata": {
        "id": "view-in-github",
        "colab_type": "text"
      },
      "source": [
        "<a href=\"https://colab.research.google.com/github/VU21CSEN0101426/PYTHON/blob/main/functions_in_python(1).ipynb\" target=\"_parent\"><img src=\"https://colab.research.google.com/assets/colab-badge.svg\" alt=\"Open In Colab\"/></a>"
      ]
    },
    {
      "cell_type": "markdown",
      "source": [
        "example for function\n"
      ],
      "metadata": {
        "id": "Rz7w0UxfVw_a"
      }
    },
    {
      "cell_type": "code",
      "execution_count": 6,
      "metadata": {
        "colab": {
          "base_uri": "https://localhost:8080/"
        },
        "id": "tFQKECRiUOcv",
        "outputId": "06ce3449-a078-4870-eb9a-1e8a6f2aac93"
      },
      "outputs": [
        {
          "output_type": "stream",
          "name": "stdout",
          "text": [
            "hello from the world\n"
          ]
        }
      ],
      "source": [
        "def sri():\n",
        "  print(\"hello from the world\")\n",
        "sri()"
      ]
    },
    {
      "cell_type": "markdown",
      "source": [
        "a function with one argument,\n",
        "arguments are passed inside the parenthesis\n"
      ],
      "metadata": {
        "id": "NN8EVZHkYBjE"
      }
    },
    {
      "cell_type": "code",
      "source": [
        "def veg(fruit):\n",
        "  print(fruit+\"veg\")  \n",
        "\n",
        "veg (\"bringal\")\n",
        "veg (\"carrot\")\n",
        "veg (\"potato\")\n",
        "veg (\"tomato\")"
      ],
      "metadata": {
        "colab": {
          "base_uri": "https://localhost:8080/"
        },
        "id": "mWTu0tSqY30b",
        "outputId": "6f22dcda-3407-4fb6-a5c2-361e30722dc2"
      },
      "execution_count": 14,
      "outputs": [
        {
          "output_type": "stream",
          "name": "stdout",
          "text": [
            "bringalveg\n",
            "carrotveg\n",
            "potatoveg\n",
            "tomatoveg\n"
          ]
        }
      ]
    },
    {
      "cell_type": "markdown",
      "source": [
        "function expects 2 arguments"
      ],
      "metadata": {
        "id": "AzfuxXsddIyz"
      }
    },
    {
      "cell_type": "code",
      "source": [
        "def fruit(veg,flower):\n",
        "  print(veg+\" \"+flower)\n",
        "\n",
        "fruit(\"potato\",\"lily\")"
      ],
      "metadata": {
        "colab": {
          "base_uri": "https://localhost:8080/"
        },
        "id": "lLTR8Sf5dMK0",
        "outputId": "6c83e90f-79fb-40a7-9c70-6dc1cfaef260"
      },
      "execution_count": 15,
      "outputs": [
        {
          "output_type": "stream",
          "name": "stdout",
          "text": [
            "potato lily\n"
          ]
        }
      ]
    },
    {
      "cell_type": "markdown",
      "source": [
        "printing three arguments"
      ],
      "metadata": {
        "id": "LUdtxSJWegmc"
      }
    },
    {
      "cell_type": "code",
      "source": [
        "def vote(name,age,gender):\n",
        "  print(\"name:\"+\" \"+name)\n",
        "  print(\"age:\"+\" \"+age)\n",
        "  print(\"gender:\"+\" \"+gender)\n",
        "\n",
        "vote(\"sri\",\"18\",\"female\")"
      ],
      "metadata": {
        "colab": {
          "base_uri": "https://localhost:8080/"
        },
        "id": "ZDdvtFl9dpOC",
        "outputId": "285d14ec-da00-4717-e16e-718eeda5cdb6"
      },
      "execution_count": 17,
      "outputs": [
        {
          "output_type": "stream",
          "name": "stdout",
          "text": [
            "name: sri\n",
            "age: 18\n",
            "gender: female\n"
          ]
        }
      ]
    }
  ]
}