{
  "nbformat": 4,
  "nbformat_minor": 0,
  "metadata": {
    "colab": {
      "name": "Strings 1",
      "provenance": [],
      "authorship_tag": "ABX9TyM5d/IWP8eov2WR+zWHCfE3",
      "include_colab_link": true
    },
    "kernelspec": {
      "name": "python3",
      "display_name": "Python 3"
    },
    "language_info": {
      "name": "python"
    }
  },
  "cells": [
    {
      "cell_type": "markdown",
      "metadata": {
        "id": "view-in-github",
        "colab_type": "text"
      },
      "source": [
        "<a href=\"https://colab.research.google.com/github/VU21CSEN0101426/PYTHON/blob/main/Strings_1.ipynb\" target=\"_parent\"><img src=\"https://colab.research.google.com/assets/colab-badge.svg\" alt=\"Open In Colab\"/></a>"
      ]
    },
    {
      "cell_type": "code",
      "execution_count": 17,
      "metadata": {
        "colab": {
          "base_uri": "https://localhost:8080/"
        },
        "id": "Qbs01D7pgiEE",
        "outputId": "e4c50dfe-51b5-4090-9f43-801f6866f9b3"
      },
      "outputs": [
        {
          "output_type": "stream",
          "name": "stdout",
          "text": [
            "World\n"
          ]
        }
      ],
      "source": [
        "a = \"World\"\n",
        "print(a)\n"
      ]
    },
    {
      "cell_type": "markdown",
      "source": [
        "slicing strings"
      ],
      "metadata": {
        "id": "DiUn453hg7vP"
      }
    },
    {
      "cell_type": "code",
      "source": [
        "a= \"Beautiful, World!\"\n",
        "print(a[3:8])\n"
      ],
      "metadata": {
        "colab": {
          "base_uri": "https://localhost:8080/"
        },
        "id": "l5Xw8d8ngwWT",
        "outputId": "fa2dc02f-6cc3-4e15-d337-5ff388b7e864"
      },
      "execution_count": 18,
      "outputs": [
        {
          "output_type": "stream",
          "name": "stdout",
          "text": [
            "utifu\n"
          ]
        }
      ]
    },
    {
      "cell_type": "code",
      "source": [
        "a = \"Beautiful, World!\"\n",
        "print(a[:8])"
      ],
      "metadata": {
        "colab": {
          "base_uri": "https://localhost:8080/"
        },
        "id": "5Pc1NRWqg_Gv",
        "outputId": "59d23eda-ce9b-4fb0-c720-b4f7108b9bbc"
      },
      "execution_count": 19,
      "outputs": [
        {
          "output_type": "stream",
          "name": "stdout",
          "text": [
            "Beautifu\n"
          ]
        }
      ]
    },
    {
      "cell_type": "code",
      "source": [
        "a = \"Beautiful, World!\"\n",
        "print(a[9:])\n"
      ],
      "metadata": {
        "colab": {
          "base_uri": "https://localhost:8080/"
        },
        "id": "m4MW-qWyhIvk",
        "outputId": "a70a1a08-694c-45e1-e1ac-3b1648aafcd3"
      },
      "execution_count": 20,
      "outputs": [
        {
          "output_type": "stream",
          "name": "stdout",
          "text": [
            ", World!\n"
          ]
        }
      ]
    },
    {
      "cell_type": "code",
      "source": [
        "a = \"Beautiful, World!\"\n",
        "print(a[-12:-2])"
      ],
      "metadata": {
        "colab": {
          "base_uri": "https://localhost:8080/"
        },
        "id": "dMe2tzGqhZPs",
        "outputId": "69a80116-8bbc-4b00-9a34-74bd54b05578"
      },
      "execution_count": 23,
      "outputs": [
        {
          "output_type": "stream",
          "name": "stdout",
          "text": [
            "iful, Worl\n"
          ]
        }
      ]
    },
    {
      "cell_type": "markdown",
      "source": [
        "Upper case() in strings"
      ],
      "metadata": {
        "id": "9k45MTnfhhAe"
      }
    },
    {
      "cell_type": "code",
      "source": [
        "a = \"Beautiful, World!\"\n",
        "print(a.upper())"
      ],
      "metadata": {
        "colab": {
          "base_uri": "https://localhost:8080/"
        },
        "id": "BnLUhUjOheLN",
        "outputId": "4d387a75-c502-4ed6-da15-7b7edf15e4c0"
      },
      "execution_count": 24,
      "outputs": [
        {
          "output_type": "stream",
          "name": "stdout",
          "text": [
            "BEAUTIFUL, WORLD!\n"
          ]
        }
      ]
    },
    {
      "cell_type": "markdown",
      "source": [
        "lower case() in strings"
      ],
      "metadata": {
        "id": "blUSyBcxhppH"
      }
    },
    {
      "cell_type": "code",
      "source": [
        "a = \"Beautiful, World!\"\n",
        "print(a.lower())"
      ],
      "metadata": {
        "colab": {
          "base_uri": "https://localhost:8080/"
        },
        "id": "AtYH2Rffhtus",
        "outputId": "8c67dd18-654b-49ee-ba46-acf7780b022b"
      },
      "execution_count": 25,
      "outputs": [
        {
          "output_type": "stream",
          "name": "stdout",
          "text": [
            "beautiful, world!\n"
          ]
        }
      ]
    },
    {
      "cell_type": "markdown",
      "source": [
        "remove whitespace in strings"
      ],
      "metadata": {
        "id": "EF6_OPwZh0Ue"
      }
    },
    {
      "cell_type": "code",
      "source": [
        "a = \" Beautiful, World! \"\n",
        "print(a.strip()) "
      ],
      "metadata": {
        "colab": {
          "base_uri": "https://localhost:8080/"
        },
        "id": "1xvIc9SDh5gG",
        "outputId": "9f7ad7e0-c5fe-48b8-b2a0-b935d5a9bff0"
      },
      "execution_count": 26,
      "outputs": [
        {
          "output_type": "stream",
          "name": "stdout",
          "text": [
            "Beautiful, World!\n"
          ]
        }
      ]
    },
    {
      "cell_type": "markdown",
      "source": [
        "replacing the string"
      ],
      "metadata": {
        "id": "Z1PML3Qyh-Cv"
      }
    },
    {
      "cell_type": "code",
      "source": [
        "a = \"Beautiful, World!\"\n",
        "print(a.replace(\"o\", \"r\"))\n"
      ],
      "metadata": {
        "colab": {
          "base_uri": "https://localhost:8080/"
        },
        "id": "RMk8_QTmiCge",
        "outputId": "52e4065f-5ae2-4347-e15d-542d77375727"
      },
      "execution_count": 27,
      "outputs": [
        {
          "output_type": "stream",
          "name": "stdout",
          "text": [
            "Beautiful, Wrrld!\n"
          ]
        }
      ]
    },
    {
      "cell_type": "markdown",
      "source": [
        ""
      ],
      "metadata": {
        "id": "StEuXX3YiM3E"
      }
    },
    {
      "cell_type": "markdown",
      "source": [
        "split string"
      ],
      "metadata": {
        "id": "lSDsXTAeiNIl"
      }
    },
    {
      "cell_type": "code",
      "source": [
        "a = \"Beautiful, World!\"\n",
        "print(a.split(\"u\"))"
      ],
      "metadata": {
        "colab": {
          "base_uri": "https://localhost:8080/"
        },
        "id": "gpO1AXxjiOkS",
        "outputId": "ece30665-7043-46ae-9f5b-9e6be2a45447"
      },
      "execution_count": 29,
      "outputs": [
        {
          "output_type": "stream",
          "name": "stdout",
          "text": [
            "['Bea', 'tif', 'l, World!']\n"
          ]
        }
      ]
    },
    {
      "cell_type": "markdown",
      "source": [
        "using \"+\" operation in string"
      ],
      "metadata": {
        "id": "hE0dlbFoiaYF"
      }
    },
    {
      "cell_type": "code",
      "source": [
        "a = \"Beautiful\"\n",
        "b = \"World\"\n",
        "c = a + b\n",
        "print(c)"
      ],
      "metadata": {
        "colab": {
          "base_uri": "https://localhost:8080/"
        },
        "id": "ooJM5vkPieui",
        "outputId": "50999ed1-496e-481d-abec-54576594b889"
      },
      "execution_count": 15,
      "outputs": [
        {
          "output_type": "stream",
          "name": "stdout",
          "text": [
            "BeautifulWorld\n"
          ]
        }
      ]
    },
    {
      "cell_type": "markdown",
      "source": [
        " add a space between them, add a \" \""
      ],
      "metadata": {
        "id": "c_FkMUhyiqnf"
      }
    },
    {
      "cell_type": "code",
      "source": [
        "a = \"Beautiful\"\n",
        "b = \"World\"\n",
        "c = a + \" \" + b\n",
        "print(c)"
      ],
      "metadata": {
        "colab": {
          "base_uri": "https://localhost:8080/"
        },
        "id": "vTmzP5wziv5C",
        "outputId": "4e1855c4-4ab9-418d-bc0b-e8f0ea020f39"
      },
      "execution_count": 16,
      "outputs": [
        {
          "output_type": "stream",
          "name": "stdout",
          "text": [
            "Beautiful World\n"
          ]
        }
      ]
    },
    {
      "cell_type": "markdown",
      "source": [
        "The format() method takes the passed arguments, formats them, and places them in the string where the placeholders {} "
      ],
      "metadata": {
        "id": "I_r4Jphije_i"
      }
    },
    {
      "cell_type": "code",
      "source": [
        "age = 18\n",
        "txt = \"My name is sri, and I am {}\"\n",
        "print(txt.format(age))"
      ],
      "metadata": {
        "colab": {
          "base_uri": "https://localhost:8080/"
        },
        "id": "P5GW-xEwjkLY",
        "outputId": "4a08e4a7-287b-4a21-bfdb-011bab4c3260"
      },
      "execution_count": 30,
      "outputs": [
        {
          "output_type": "stream",
          "name": "stdout",
          "text": [
            "My name is sri, and I am 18\n"
          ]
        }
      ]
    },
    {
      "cell_type": "code",
      "source": [
        "quantity = 6\n",
        "itemname= \"pizza\"\n",
        "price = 550\n",
        "myorder = \"I want {} pieces of item {} for {} rupees.\"\n",
        "print(myorder.format(quantity, itemname, price))\n"
      ],
      "metadata": {
        "colab": {
          "base_uri": "https://localhost:8080/"
        },
        "id": "OXB7Oty0jt7L",
        "outputId": "59a4f96d-e4f1-441b-b9ec-48b621a23fb0"
      },
      "execution_count": 34,
      "outputs": [
        {
          "output_type": "stream",
          "name": "stdout",
          "text": [
            "I want 6 pieces of item pizza for 550 rupees.\n"
          ]
        }
      ]
    },
    {
      "cell_type": "code",
      "source": [
        "quantity = 6\n",
        "itemname= \"pizza\"\n",
        "price = 550\n",
        "myorder = \"I want to pay {2} dollars for {0} pieces of item {1}.\"\n",
        "print(myorder.format(quantity, itemname, price))\n"
      ],
      "metadata": {
        "colab": {
          "base_uri": "https://localhost:8080/"
        },
        "id": "uMUrPWXjkWnP",
        "outputId": "7ca686cf-edbe-4195-ec26-161e91437b2b"
      },
      "execution_count": 35,
      "outputs": [
        {
          "output_type": "stream",
          "name": "stdout",
          "text": [
            "I want to pay 550 dollars for 6 pieces of item pizza.\n"
          ]
        }
      ]
    },
    {
      "cell_type": "code",
      "source": [
        ""
      ],
      "metadata": {
        "id": "yjmJV1XoklT0"
      },
      "execution_count": null,
      "outputs": []
    }
  ]
}