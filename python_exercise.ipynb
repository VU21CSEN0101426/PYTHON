{
  "nbformat": 4,
  "nbformat_minor": 0,
  "metadata": {
    "colab": {
      "name": "python exercise",
      "provenance": [],
      "authorship_tag": "ABX9TyMiZiP6ZsszoQ4PNkhg08pc",
      "include_colab_link": true
    },
    "kernelspec": {
      "name": "python3",
      "display_name": "Python 3"
    },
    "language_info": {
      "name": "python"
    }
  },
  "cells": [
    {
      "cell_type": "markdown",
      "metadata": {
        "id": "view-in-github",
        "colab_type": "text"
      },
      "source": [
        "<a href=\"https://colab.research.google.com/github/VU21CSEN0101426/PYTHON/blob/main/python_exercise.ipynb\" target=\"_parent\"><img src=\"https://colab.research.google.com/assets/colab-badge.svg\" alt=\"Open In Colab\"/></a>"
      ]
    },
    {
      "cell_type": "code",
      "execution_count": 13,
      "metadata": {
        "colab": {
          "base_uri": "https://localhost:8080/"
        },
        "id": "G1BlGNVE-AuR",
        "outputId": "712b1217-0a5a-403a-f345-a0117072d2bf"
      },
      "outputs": [
        {
          "output_type": "stream",
          "name": "stdout",
          "text": [
            "enter n:4\n",
            "the sum is 1\n",
            "the sum is 3\n",
            "the sum is 6\n",
            "the sum is 10\n"
          ]
        }
      ],
      "source": [
        "n=int(input(\"enter n:\"))\n",
        "sum=0\n",
        "i=1\n",
        "while i <= n:\n",
        "    sum = sum + i\n",
        "    print(\"the sum is\",sum)\n",
        "    i =i+1"
      ]
    },
    {
      "cell_type": "code",
      "source": [
        "num = float(input(\"Enter a number: \"))\n",
        "if num >= 0:\n",
        "    if num == 0:\n",
        "        print(\"Zero\")\n",
        "    else:\n",
        "        print(\"Positive number\")\n",
        "else:\n",
        "    print(\"Negative number\")"
      ],
      "metadata": {
        "colab": {
          "base_uri": "https://localhost:8080/"
        },
        "id": "2CQzfO7vAg87",
        "outputId": "b32d2514-fd8e-4e24-cca2-122693c5d35a"
      },
      "execution_count": 17,
      "outputs": [
        {
          "output_type": "stream",
          "name": "stdout",
          "text": [
            "Enter a number: -3\n",
            "Negative number\n"
          ]
        }
      ]
    }
  ]
}