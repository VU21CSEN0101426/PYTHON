{
  "nbformat": 4,
  "nbformat_minor": 0,
  "metadata": {
    "colab": {
      "name": "tuple",
      "provenance": [],
      "authorship_tag": "ABX9TyOP7PzpOaqrJntp7fmrpocF",
      "include_colab_link": true
    },
    "kernelspec": {
      "name": "python3",
      "display_name": "Python 3"
    },
    "language_info": {
      "name": "python"
    }
  },
  "cells": [
    {
      "cell_type": "markdown",
      "metadata": {
        "id": "view-in-github",
        "colab_type": "text"
      },
      "source": [
        "<a href=\"https://colab.research.google.com/github/VU21CSEN0101426/PYTHON/blob/main/tuple.ipynb\" target=\"_parent\"><img src=\"https://colab.research.google.com/assets/colab-badge.svg\" alt=\"Open In Colab\"/></a>"
      ]
    },
    {
      "cell_type": "code",
      "execution_count": 2,
      "metadata": {
        "colab": {
          "base_uri": "https://localhost:8080/"
        },
        "id": "2ZJmYcPDvA4I",
        "outputId": "17e3eee5-0bdd-4f9d-abec-16aa453bc795"
      },
      "outputs": [
        {
          "output_type": "stream",
          "name": "stdout",
          "text": [
            "('mango', 'orange', 'berry')\n"
          ]
        }
      ],
      "source": [
        "fruits=(\"mango\",\"orange\",\"berry\",\"Cherry\",\"guava\")\n",
        "print(fruits)"
      ]
    },
    {
      "cell_type": "markdown",
      "source": [
        "LENGTH OF THE TUPLE"
      ],
      "metadata": {
        "id": "zSGhmYux0GwM"
      }
    },
    {
      "cell_type": "code",
      "source": [
        "fruits=(\"mango\",\"orange\",\"berry\",\"Cherry\",\"guava\")\n",
        "print(len(fruits))"
      ],
      "metadata": {
        "colab": {
          "base_uri": "https://localhost:8080/"
        },
        "id": "7uw_B4XYv-2t",
        "outputId": "eb2344a9-c233-421d-cd8e-13059ff6330c"
      },
      "execution_count": 3,
      "outputs": [
        {
          "output_type": "stream",
          "name": "stdout",
          "text": [
            "5\n"
          ]
        }
      ]
    },
    {
      "cell_type": "markdown",
      "source": [
        "TYPE OF THE TUPLE"
      ],
      "metadata": {
        "id": "iT5FWhDw0WMb"
      }
    },
    {
      "cell_type": "code",
      "source": [
        "fruits=(\"mango\",)\n",
        "print(type(fruits))\n",
        "fruits=(\"mango\")\n",
        "print(type(fruits))"
      ],
      "metadata": {
        "colab": {
          "base_uri": "https://localhost:8080/"
        },
        "id": "yTKOBm9ewio0",
        "outputId": "6a4e28ca-a7dd-4532-ac4c-fbf5a41aaf0b"
      },
      "execution_count": 6,
      "outputs": [
        {
          "output_type": "stream",
          "name": "stdout",
          "text": [
            "<class 'tuple'>\n",
            "<class 'str'>\n"
          ]
        }
      ]
    },
    {
      "cell_type": "markdown",
      "source": [
        "CONVERTING TUPLE TO LIST"
      ],
      "metadata": {
        "id": "D8q1JgDC0ksV"
      }
    },
    {
      "cell_type": "code",
      "source": [
        "x=(\"mango\",\"orange\",\"berry\",\"Cherry\",\"guava\")\n",
        "y=list(x)\n",
        "print(y)"
      ],
      "metadata": {
        "colab": {
          "base_uri": "https://localhost:8080/"
        },
        "id": "1_CJV-U7zvqm",
        "outputId": "63e32cd6-ffab-4b2b-8297-28a7614762c6"
      },
      "execution_count": 21,
      "outputs": [
        {
          "output_type": "stream",
          "name": "stdout",
          "text": [
            "['mango', 'orange', 'berry', 'Cherry', 'guava']\n"
          ]
        }
      ]
    },
    {
      "cell_type": "markdown",
      "source": [
        "ADDING MORE TUPLES"
      ],
      "metadata": {
        "id": "UHl-_h8j0sml"
      }
    },
    {
      "cell_type": "code",
      "source": [
        "fruits=(\"mango\",\"orange\",\"berry\",\"Cherry\",\"guava\")\n",
        "numbers=(\"1\",\"2\",\"3\",\"4\",\"5\")\n",
        "names=(\"ram\",\"ravi\",\"shiva\")\n",
        "print(fruits)\n",
        "print(numbers)\n",
        "print(names)"
      ],
      "metadata": {
        "colab": {
          "base_uri": "https://localhost:8080/"
        },
        "id": "7C0R1J3ixq51",
        "outputId": "9bce58ad-a827-426a-f5ae-d73659e0eb0e"
      },
      "execution_count": 12,
      "outputs": [
        {
          "output_type": "stream",
          "name": "stdout",
          "text": [
            "('mango', 'orange', 'berry', 'Cherry', 'guava')\n",
            "('1', '2', '3', '4', '5')\n",
            "('ram', 'ravi', 'shiva')\n"
          ]
        }
      ]
    },
    {
      "cell_type": "markdown",
      "source": [
        "TYPE OF THE TUPLE"
      ],
      "metadata": {
        "id": "kyMLoNpa0yYj"
      }
    },
    {
      "cell_type": "code",
      "source": [
        "fruit=(\"mango\",\"orange\",\"berry\",\"Cherry\",\"guava\")\n",
        "print(type(fruit))"
      ],
      "metadata": {
        "colab": {
          "base_uri": "https://localhost:8080/"
        },
        "id": "S-v35yfByb09",
        "outputId": "1fbb8b4b-19e3-413b-eb78-697c07022d6e"
      },
      "execution_count": 13,
      "outputs": [
        {
          "output_type": "stream",
          "name": "stdout",
          "text": [
            "<class 'tuple'>\n"
          ]
        }
      ]
    },
    {
      "cell_type": "code",
      "source": [
        "fruit=tuple((\"mango\",\"orange\",\"berry\",\"Cherry\",\"guava\"))\n",
        "print(fruits)\n"
      ],
      "metadata": {
        "colab": {
          "base_uri": "https://localhost:8080/"
        },
        "id": "dp6UInaXymzw",
        "outputId": "38aafa79-0d70-4adc-d013-a0f1c24aee40"
      },
      "execution_count": 14,
      "outputs": [
        {
          "output_type": "stream",
          "name": "stdout",
          "text": [
            "('mango', 'orange', 'berry', 'Cherry', 'guava')\n"
          ]
        }
      ]
    },
    {
      "cell_type": "markdown",
      "source": [
        " tuple with strings, integers and boolean"
      ],
      "metadata": {
        "id": "ibBcseSo03ik"
      }
    },
    {
      "cell_type": "code",
      "source": [
        "things=(\"abc\",36, True,40,\"female\")\n",
        "print(things)"
      ],
      "metadata": {
        "colab": {
          "base_uri": "https://localhost:8080/"
        },
        "id": "mwieHmJ10BSd",
        "outputId": "0342488a-7b9f-4083-f253-f74578f29752"
      },
      "execution_count": 23,
      "outputs": [
        {
          "output_type": "stream",
          "name": "stdout",
          "text": [
            "('abc', 36, True, 40, 'female')\n"
          ]
        }
      ]
    },
    {
      "cell_type": "code",
      "source": [
        "fruit=(\"mango\",\"orange\",\"berry\",\"Cherry\",\"guava\")\n",
        "print(fruit[4])"
      ],
      "metadata": {
        "colab": {
          "base_uri": "https://localhost:8080/"
        },
        "id": "We-BnRwS2iBk",
        "outputId": "7501bcb0-4379-4952-cdef-acd152e1514a"
      },
      "execution_count": 29,
      "outputs": [
        {
          "output_type": "stream",
          "name": "stdout",
          "text": [
            "guava\n"
          ]
        }
      ]
    },
    {
      "cell_type": "code",
      "source": [
        "fruit=(\"mango\",\"orange\",\"berry\",\"Cherry\",\"guava\")\n",
        "print(fruit[-3])"
      ],
      "metadata": {
        "colab": {
          "base_uri": "https://localhost:8080/"
        },
        "id": "6dpnI4Gj22fF",
        "outputId": "6d98e274-f098-4b94-864a-f0b57c564f9b"
      },
      "execution_count": 31,
      "outputs": [
        {
          "output_type": "stream",
          "name": "stdout",
          "text": [
            "berry\n"
          ]
        }
      ]
    },
    {
      "cell_type": "code",
      "source": [
        "fruit=(\"mango\",\"orange\",\"berry\",\"Cherry\",\"guava\")\n",
        "print(fruit[1:3])"
      ],
      "metadata": {
        "colab": {
          "base_uri": "https://localhost:8080/"
        },
        "id": "c2De66BA3Eob",
        "outputId": "3cad0161-8b57-4951-dfc9-ef8105b97045"
      },
      "execution_count": 42,
      "outputs": [
        {
          "output_type": "stream",
          "name": "stdout",
          "text": [
            "('orange', 'berry')\n"
          ]
        }
      ]
    },
    {
      "cell_type": "code",
      "source": [
        "fruit=(\"mango\",\"orange\",\"berry\",\"Cherry\",\"guava\")\n",
        "print(fruit[:2])"
      ],
      "metadata": {
        "colab": {
          "base_uri": "https://localhost:8080/"
        },
        "id": "nrZmqToF3a4r",
        "outputId": "798fba27-0476-40a9-eb8c-7bbdbb7c7e48"
      },
      "execution_count": 39,
      "outputs": [
        {
          "output_type": "stream",
          "name": "stdout",
          "text": [
            "('mango', 'orange')\n"
          ]
        }
      ]
    },
    {
      "cell_type": "code",
      "source": [
        "fruit=(\"mango\",\"orange\",\"berry\",\"Cherry\",\"guava\")\n",
        "print(fruit[2:])"
      ],
      "metadata": {
        "colab": {
          "base_uri": "https://localhost:8080/"
        },
        "id": "JJjAwmlV3kaF",
        "outputId": "bb81dce3-b5d5-4e51-b495-57f77688da6a"
      },
      "execution_count": 41,
      "outputs": [
        {
          "output_type": "stream",
          "name": "stdout",
          "text": [
            "('berry', 'Cherry', 'guava')\n"
          ]
        }
      ]
    },
    {
      "cell_type": "code",
      "source": [
        "fruit=(\"mango\",\"orange\",\"berry\",\"Cherry\",\"guava\")\n",
        "print(fruit[-5:-1])"
      ],
      "metadata": {
        "colab": {
          "base_uri": "https://localhost:8080/"
        },
        "id": "ESljb4RQ3vrF",
        "outputId": "0cb6dde5-2d05-43f7-8be8-609814b58d63"
      },
      "execution_count": 47,
      "outputs": [
        {
          "output_type": "stream",
          "name": "stdout",
          "text": [
            "('mango', 'orange', 'berry', 'Cherry')\n"
          ]
        }
      ]
    },
    {
      "cell_type": "code",
      "source": [
        "fruit=(\"mango\",\"orange\",\"berry\",\"Cherry\",\"guava\")\n",
        "if \"apple\" in fruit:\n",
        "  print(\"yes,'apple' is in fruits\")"
      ],
      "metadata": {
        "id": "OjznWO4C4HaT"
      },
      "execution_count": 53,
      "outputs": []
    },
    {
      "cell_type": "code",
      "source": [
        "fruit=(\"mango\",\"orange\",\"berry\",\"Cherry\",\"guava\")\n",
        "if \"mango\" in fruit:\n",
        "  print(\"yes,'mango' is in fruits\")"
      ],
      "metadata": {
        "colab": {
          "base_uri": "https://localhost:8080/"
        },
        "id": "diSTYcBC4pS8",
        "outputId": "33f5a784-00b5-46c5-f75f-18f29a39fdb5"
      },
      "execution_count": 57,
      "outputs": [
        {
          "output_type": "stream",
          "name": "stdout",
          "text": [
            "yes,'mango' is in fruits\n"
          ]
        }
      ]
    },
    {
      "cell_type": "markdown",
      "source": [
        "CONVERTING LISTS TO TUPLE"
      ],
      "metadata": {
        "id": "ARgB6tsE5AAq"
      }
    },
    {
      "cell_type": "code",
      "source": [
        "x=(\"mango\",\"orange\",\"berry\",\"Cherry\",\"guava\")\n",
        "y=list(x)\n",
        "x=tuple(y)\n",
        "print(x)"
      ],
      "metadata": {
        "colab": {
          "base_uri": "https://localhost:8080/"
        },
        "id": "hxQU30Ei45Ij",
        "outputId": "5601977c-5292-4908-9198-ab5843d37518"
      },
      "execution_count": 61,
      "outputs": [
        {
          "output_type": "stream",
          "name": "stdout",
          "text": [
            "('mango', 'orange', 'berry', 'Cherry', 'guava')\n"
          ]
        }
      ]
    },
    {
      "cell_type": "markdown",
      "source": [
        "ADDING FRUIT IN TUPLE WHICH IS CONVERTED TO LIST"
      ],
      "metadata": {
        "id": "BfN7q-aj5W9y"
      }
    },
    {
      "cell_type": "code",
      "source": [
        "x=(\"mango\",\"orange\",\"berry\",\"Cherry\",\"guava\")\n",
        "y=list(x)\n",
        "y[3]=\"apple\"\n",
        "x=tuple(y)\n",
        "print(x)"
      ],
      "metadata": {
        "colab": {
          "base_uri": "https://localhost:8080/"
        },
        "id": "o3LjWu0W5e4z",
        "outputId": "73864c67-b723-465c-fc18-3bded41e1018"
      },
      "execution_count": 62,
      "outputs": [
        {
          "output_type": "stream",
          "name": "stdout",
          "text": [
            "('mango', 'orange', 'berry', 'apple', 'guava')\n"
          ]
        }
      ]
    },
    {
      "cell_type": "markdown",
      "source": [
        "USING APPEND IN TUPLE"
      ],
      "metadata": {
        "id": "e9l-DaIT52me"
      }
    },
    {
      "cell_type": "code",
      "source": [
        "x=(\"mango\",\"orange\",\"berry\",\"Cherry\",\"guava\")\n",
        "y=list(x)\n",
        "y.append(\"apple\")\n",
        "print(y)"
      ],
      "metadata": {
        "colab": {
          "base_uri": "https://localhost:8080/"
        },
        "id": "gTiMQoDe6Ih5",
        "outputId": "d316bfff-57d4-4ce4-de96-a0158a507935"
      },
      "execution_count": 65,
      "outputs": [
        {
          "output_type": "stream",
          "name": "stdout",
          "text": [
            "['mango', 'orange', 'berry', 'Cherry', 'guava', 'apple']\n"
          ]
        }
      ]
    },
    {
      "cell_type": "markdown",
      "source": [
        "ADDING EXTEND IN TUPLE"
      ],
      "metadata": {
        "id": "iwUgcEVt6WXa"
      }
    },
    {
      "cell_type": "code",
      "source": [
        "x=(\"mango\",\"orange\",\"berry\",\"Cherry\",\"guava\")\n",
        "y=(\"apple\",)\n",
        "x += y\n",
        "print(x)"
      ],
      "metadata": {
        "colab": {
          "base_uri": "https://localhost:8080/"
        },
        "id": "fIRDG7gW6bmz",
        "outputId": "ce90b857-951f-4afc-c0a6-3a4f7672be30"
      },
      "execution_count": 72,
      "outputs": [
        {
          "output_type": "stream",
          "name": "stdout",
          "text": [
            "('mango', 'orange', 'berry', 'Cherry', 'guava', 'apple')\n"
          ]
        }
      ]
    },
    {
      "cell_type": "code",
      "source": [
        "x=(\"mango\",\"orange\",\"berry\",\"Cherry\",\"guava\")\n",
        "y=list(x)\n",
        "y.remove(\"berry\")\n",
        "x= tuple(y)\n",
        "print(y)"
      ],
      "metadata": {
        "colab": {
          "base_uri": "https://localhost:8080/"
        },
        "id": "aj7dOaRFALDK",
        "outputId": "7f71c703-2287-4722-9d84-9969c60c0fdc"
      },
      "execution_count": 73,
      "outputs": [
        {
          "output_type": "stream",
          "name": "stdout",
          "text": [
            "['mango', 'orange', 'Cherry', 'guava']\n"
          ]
        }
      ]
    }
  ]
}