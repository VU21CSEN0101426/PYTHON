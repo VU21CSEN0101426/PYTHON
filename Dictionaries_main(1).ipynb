{
  "nbformat": 4,
  "nbformat_minor": 0,
  "metadata": {
    "colab": {
      "name": "Dictionaries.main(1)",
      "provenance": [],
      "authorship_tag": "ABX9TyPvVxZKqham4ZPlmCWhx/LV",
      "include_colab_link": true
    },
    "kernelspec": {
      "name": "python3",
      "display_name": "Python 3"
    },
    "language_info": {
      "name": "python"
    }
  },
  "cells": [
    {
      "cell_type": "markdown",
      "metadata": {
        "id": "view-in-github",
        "colab_type": "text"
      },
      "source": [
        "<a href=\"https://colab.research.google.com/github/VU21CSEN0101426/PYTHON/blob/main/Dictionaries_main(1).ipynb\" target=\"_parent\"><img src=\"https://colab.research.google.com/assets/colab-badge.svg\" alt=\"Open In Colab\"/></a>"
      ]
    },
    {
      "cell_type": "code",
      "execution_count": 1,
      "metadata": {
        "colab": {
          "base_uri": "https://localhost:8080/"
        },
        "id": "4798_QSxUoUu",
        "outputId": "a5b5cb8c-38c8-4404-98d5-42d705be17a8"
      },
      "outputs": [
        {
          "output_type": "stream",
          "name": "stdout",
          "text": [
            "{'brand': 'honda', 'model': 'honda jazz', 'year': 2009}\n"
          ]
        }
      ],
      "source": [
        "car= {\n",
        "  \"brand\": \"honda\",\n",
        "  \"model\": \"honda jazz\",\n",
        "  \"year\": 2009\n",
        "}\n",
        "print(car)"
      ]
    },
    {
      "cell_type": "markdown",
      "source": [
        "printing the brand name"
      ],
      "metadata": {
        "id": "sgRV5_WcdPf9"
      }
    },
    {
      "cell_type": "code",
      "source": [
        "car= {\n",
        "  \"brand\": \"honda\",\n",
        "  \"model\": \"honda jazz\",\n",
        "  \"year\": 2009\n",
        "}\n",
        "print(car[\"brand\"])"
      ],
      "metadata": {
        "colab": {
          "base_uri": "https://localhost:8080/"
        },
        "id": "MbdpwPHgdNLX",
        "outputId": "f672ac7b-015f-481a-bb99-e8cce833ef3e"
      },
      "execution_count": 27,
      "outputs": [
        {
          "output_type": "stream",
          "name": "stdout",
          "text": [
            "honda\n"
          ]
        }
      ]
    },
    {
      "cell_type": "markdown",
      "source": [
        "using two items with same key"
      ],
      "metadata": {
        "id": "SzrzZUotdb1E"
      }
    },
    {
      "cell_type": "code",
      "source": [
        "car = {\n",
        "  \"brand\": \"honda\",\n",
        "  \"brand\": \" ford\",\n",
        "  \"model\": \"honda jazz\",\n",
        "  \"year\": 2009,\n",
        "  \"year\": 1948\n",
        "}\n",
        "print(car))"
      ],
      "metadata": {
        "colab": {
          "base_uri": "https://localhost:8080/"
        },
        "id": "IgYlY90FdkRN",
        "outputId": "be6a7028-e6f0-4070-db11-c201d65701c0"
      },
      "execution_count": 8,
      "outputs": [
        {
          "output_type": "stream",
          "name": "stdout",
          "text": [
            "{'brand': ' ford', 'model': 'honda jazz', 'year': 1948}\n"
          ]
        }
      ]
    },
    {
      "cell_type": "markdown",
      "source": [
        "length of the dictionaries"
      ],
      "metadata": {
        "id": "DJE1xOsteSHM"
      }
    },
    {
      "cell_type": "code",
      "source": [
        "car= {\n",
        "  \"brand\": \"honda\",\n",
        "  \"model\": \"honda jazz\",\n",
        "  \"year\": 2009\n",
        "}\n",
        "print(len(car))"
      ],
      "metadata": {
        "colab": {
          "base_uri": "https://localhost:8080/"
        },
        "id": "PL-z4uqCeVPS",
        "outputId": "a0987c87-0539-433c-bcc1-d6743442216a"
      },
      "execution_count": 28,
      "outputs": [
        {
          "output_type": "stream",
          "name": "stdout",
          "text": [
            "3\n"
          ]
        }
      ]
    },
    {
      "cell_type": "markdown",
      "source": [
        "using data types in dictionaries"
      ],
      "metadata": {
        "id": "BlcjUSNEelGa"
      }
    },
    {
      "cell_type": "code",
      "source": [
        "car= {\n",
        "  \"brand\": \"honda\",\n",
        "  \"electric\": True,\n",
        "  \"year\": 1964,\n",
        "  \"colors\": [\"red\", \"white\", \"black\"]\n",
        "}\n",
        "print(car)\n"
      ],
      "metadata": {
        "colab": {
          "base_uri": "https://localhost:8080/"
        },
        "id": "8K3YuSmhexG6",
        "outputId": "f58d6342-f447-488e-ba49-bf80dff87b29"
      },
      "execution_count": 30,
      "outputs": [
        {
          "output_type": "stream",
          "name": "stdout",
          "text": [
            "{'brand': 'honda', 'electric': True, 'year': 1964, 'colors': ['red', 'white', 'black']}\n"
          ]
        }
      ]
    },
    {
      "cell_type": "markdown",
      "source": [
        "finding type"
      ],
      "metadata": {
        "id": "dYdOJWK3fE-g"
      }
    },
    {
      "cell_type": "code",
      "source": [
        "car = {\n",
        "  \"brand\": \"honda\",\n",
        "  \"model\": \"honda jazz\",\n",
        "  \"year\": 2009\n",
        "}\n",
        "print(type(car))"
      ],
      "metadata": {
        "colab": {
          "base_uri": "https://localhost:8080/"
        },
        "id": "JmyYauZXfIow",
        "outputId": "28b77d8f-844d-4d4f-afa8-3b5ce9068921"
      },
      "execution_count": 25,
      "outputs": [
        {
          "output_type": "stream",
          "name": "stdout",
          "text": [
            "<class 'dict'>\n"
          ]
        }
      ]
    },
    {
      "cell_type": "markdown",
      "source": [
        "You can access the items of a dictionary by referring to its key name, inside square brackets:"
      ],
      "metadata": {
        "id": "vzIohzsYfggv"
      }
    },
    {
      "cell_type": "code",
      "source": [
        "car = {\n",
        "  \"brand\": \"honda\",\n",
        "  \"model\": \"honda jazz\",\n",
        "  \"year\": 2009\n",
        "}\n",
        "x=car[\"model\"]\n",
        "print(x)\n"
      ],
      "metadata": {
        "colab": {
          "base_uri": "https://localhost:8080/"
        },
        "id": "B1IiS2rkfjp-",
        "outputId": "a6be7c68-14be-4941-ac2c-834bb582a7b3"
      },
      "execution_count": 24,
      "outputs": [
        {
          "output_type": "stream",
          "name": "stdout",
          "text": [
            "honda jazz\n"
          ]
        }
      ]
    },
    {
      "cell_type": "markdown",
      "source": [
        "using get()"
      ],
      "metadata": {
        "id": "YitZPfqlf8KP"
      }
    },
    {
      "cell_type": "code",
      "source": [
        "car = {\n",
        "  \"brand\": \"honda\",\n",
        "  \"model\": \"honda jazz\",\n",
        "  \"year\": 2009\n",
        "}\n",
        "x = car.get(\"model\")\n",
        "print(x)\n"
      ],
      "metadata": {
        "colab": {
          "base_uri": "https://localhost:8080/"
        },
        "id": "H0uMWAeXgA3N",
        "outputId": "537f7a33-8b6c-4482-be0a-07e8f6cfc905"
      },
      "execution_count": 23,
      "outputs": [
        {
          "output_type": "stream",
          "name": "stdout",
          "text": [
            "honda jazz\n"
          ]
        }
      ]
    },
    {
      "cell_type": "markdown",
      "source": [
        "using key()"
      ],
      "metadata": {
        "id": "Dz5ZkqA1gTjs"
      }
    },
    {
      "cell_type": "code",
      "source": [
        "car= {\n",
        "  \"brand\": \"honda\",\n",
        "  \"model\": \"honda jazz\",\n",
        "  \"year\": 2009\n",
        "}\n",
        "x = car.keys()\n",
        "print(x)\n"
      ],
      "metadata": {
        "colab": {
          "base_uri": "https://localhost:8080/"
        },
        "id": "f14OfNdXgbVD",
        "outputId": "80a371e0-b3e2-4e7b-df95-0eff633a2f44"
      },
      "execution_count": 22,
      "outputs": [
        {
          "output_type": "stream",
          "name": "stdout",
          "text": [
            "dict_keys(['brand', 'model', 'year'])\n"
          ]
        }
      ]
    },
    {
      "cell_type": "markdown",
      "source": [
        "Add a new item to the original dictionary"
      ],
      "metadata": {
        "id": "FG-xiye6gmFz"
      }
    },
    {
      "cell_type": "code",
      "source": [
        "car = {\n",
        "\"brand\": \"honda\",\n",
        "\"model\": \"honda jazz\",\n",
        "\"year\": 2009\n",
        "}\n",
        "\n",
        "x = car.keys()\n",
        "print(x)\n",
        "car[\"color\"]=\"black\"\n",
        "print(x)"
      ],
      "metadata": {
        "colab": {
          "base_uri": "https://localhost:8080/"
        },
        "id": "g4paTb6mgmyj",
        "outputId": "656b779c-a752-4d08-8ff8-54b735dc6963"
      },
      "execution_count": 32,
      "outputs": [
        {
          "output_type": "stream",
          "name": "stdout",
          "text": [
            "dict_keys(['brand', 'model', 'year'])\n",
            "dict_keys(['brand', 'model', 'year', 'color'])\n"
          ]
        }
      ]
    },
    {
      "cell_type": "markdown",
      "source": [
        "The items() method will return each item in a dictionary, as tuples in a list."
      ],
      "metadata": {
        "id": "C8N2bptchxkN"
      }
    },
    {
      "cell_type": "code",
      "source": [
        "car = {\n",
        "  \"brand\": \"honda\",\n",
        "  \"model\": \"honda jazz\",\n",
        "  \"year\": 2009\n",
        "}\n",
        "x = car.items()\n",
        "print(x)\n"
      ],
      "metadata": {
        "colab": {
          "base_uri": "https://localhost:8080/"
        },
        "id": "8tlbQnPgh2JI",
        "outputId": "d3df7e88-3f22-4d6a-c16a-2c056cdada9b"
      },
      "execution_count": 33,
      "outputs": [
        {
          "output_type": "stream",
          "name": "stdout",
          "text": [
            "dict_items([('brand', 'honda'), ('model', 'honda jazz'), ('year', 2009)])\n"
          ]
        }
      ]
    },
    {
      "cell_type": "markdown",
      "source": [
        "Make a change in the original dictionary"
      ],
      "metadata": {
        "id": "qY6fNzPziKTA"
      }
    },
    {
      "cell_type": "code",
      "source": [
        "car = {\n",
        "\"brand\": \"Ford\",\n",
        "\"model\": \"Mustang\",\n",
        "\"year\": 1964\n",
        "}\n",
        "\n",
        "x = car.items()\n",
        "\n",
        "print(x)\n",
        "car[\"year\"] = 2009\n",
        "print(x) "
      ],
      "metadata": {
        "colab": {
          "base_uri": "https://localhost:8080/"
        },
        "id": "7f9b8vLWiOlJ",
        "outputId": "bc7049e6-4d04-4f39-a933-079fdf7744ea"
      },
      "execution_count": 34,
      "outputs": [
        {
          "output_type": "stream",
          "name": "stdout",
          "text": [
            "dict_items([('brand', 'Ford'), ('model', 'Mustang'), ('year', 1964)])\n",
            "dict_items([('brand', 'Ford'), ('model', 'Mustang'), ('year', 2009)])\n"
          ]
        }
      ]
    },
    {
      "cell_type": "markdown",
      "source": [
        "Make a change in the original dictionary"
      ],
      "metadata": {
        "id": "vxv657bAilDX"
      }
    },
    {
      "cell_type": "code",
      "source": [
        "car = {\n",
        "\"brand\": \"Ford\",\n",
        "\"model\": \"Mustang\",\n",
        "\"year\": 1964\n",
        "}\n",
        "x = car.items()\n",
        "print(x) \n",
        "car[\"color\"] = \"red\"\n",
        "print(x) "
      ],
      "metadata": {
        "colab": {
          "base_uri": "https://localhost:8080/"
        },
        "id": "7vriIkLMilYQ",
        "outputId": "ff72cfa6-596a-4ecb-8545-31fa072d9264"
      },
      "execution_count": 35,
      "outputs": [
        {
          "output_type": "stream",
          "name": "stdout",
          "text": [
            "dict_items([('brand', 'Ford'), ('model', 'Mustang'), ('year', 1964)])\n",
            "dict_items([('brand', 'Ford'), ('model', 'Mustang'), ('year', 1964), ('color', 'red')])\n"
          ]
        }
      ]
    },
    {
      "cell_type": "markdown",
      "source": [
        "To determine if a specified key is present in a dictionary use the in keyword:"
      ],
      "metadata": {
        "id": "CK_gzeB1iv1t"
      }
    },
    {
      "cell_type": "code",
      "source": [
        "car = {\n",
        "  \"brand\": \"honda\",\n",
        "  \"model\": \"honda jazz\",\n",
        "  \"year\": 2009\n",
        "}\n",
        "if \"model\" in car:\n",
        "  print(\"Yes, 'brand' is one of the keys in the thisdict dictionary\")"
      ],
      "metadata": {
        "colab": {
          "base_uri": "https://localhost:8080/"
        },
        "id": "9OiP1ZE-iv_m",
        "outputId": "2793f154-ffaa-4b1c-d0c1-5add6cf852de"
      },
      "execution_count": 36,
      "outputs": [
        {
          "output_type": "stream",
          "name": "stdout",
          "text": [
            "Yes, 'brand' is one of the keys in the thisdict dictionary\n"
          ]
        }
      ]
    },
    {
      "cell_type": "markdown",
      "source": [
        ""
      ],
      "metadata": {
        "id": "a2EjOxVdi_9U"
      }
    },
    {
      "cell_type": "code",
      "source": [
        ""
      ],
      "metadata": {
        "id": "AdnGr5lwjAJN"
      },
      "execution_count": null,
      "outputs": []
    }
  ]
}