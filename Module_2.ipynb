{
  "nbformat": 4,
  "nbformat_minor": 0,
  "metadata": {
    "colab": {
      "name": "Module 2",
      "provenance": [],
      "authorship_tag": "ABX9TyNo4Rd/yyiEg2kptr7bDW+t",
      "include_colab_link": true
    },
    "kernelspec": {
      "name": "python3",
      "display_name": "Python 3"
    },
    "language_info": {
      "name": "python"
    }
  },
  "cells": [
    {
      "cell_type": "markdown",
      "metadata": {
        "id": "view-in-github",
        "colab_type": "text"
      },
      "source": [
        "<a href=\"https://colab.research.google.com/github/VU21CSEN0101426/PYTHON/blob/main/Module_2.ipynb\" target=\"_parent\"><img src=\"https://colab.research.google.com/assets/colab-badge.svg\" alt=\"Open In Colab\"/></a>"
      ]
    },
    {
      "cell_type": "code",
      "execution_count": null,
      "metadata": {
        "colab": {
          "base_uri": "https://localhost:8080/"
        },
        "id": "J0cpeL3ssEwX",
        "outputId": "5bed796f-f17f-4cac-e284-c30b43dea491"
      },
      "outputs": [
        {
          "output_type": "stream",
          "name": "stdout",
          "text": [
            "4\n",
            "5\n",
            "1\n"
          ]
        }
      ],
      "source": [
        "def nCr(a,b):\n",
        "  return(fact(a)/(fact(b)*fact(a-b)))\n",
        "a=int(input(\"\"))\n",
        "b=int(input(\"\"))\n",
        "def fact(a):\n",
        "  res=1\n",
        "  for i in range(2,a+1):\n",
        "    res=res*1\n",
        "  return res\n",
        "print(int(nCr(a,b)))"
      ]
    },
    {
      "cell_type": "markdown",
      "source": [
        "Program to print a specified list after removing the 0th, 4th and 5th elements.\n",
        "Sample List : ['Red', 'Green', 'White', 'Black', 'Pink', 'Yellow']\n",
        "Expected Output : ['Green', 'White', 'Black']"
      ],
      "metadata": {
        "id": "vE0-AF-m2w2q"
      }
    },
    {
      "cell_type": "code",
      "source": [
        "color=[\"Red\",\"Green\",\"White\",\"Black\",\"Pink\",\"Yellow\"]\n",
        "color.remove(\"Red\")\n",
        "color.remove(\"Pink\")\n",
        "color.remove(\"Yellow\")\n",
        "print(color)"
      ],
      "metadata": {
        "colab": {
          "base_uri": "https://localhost:8080/"
        },
        "id": "xQp38KER0EiS",
        "outputId": "8625771a-fa70-49e0-9d77-332c6bd1bbeb"
      },
      "execution_count": 5,
      "outputs": [
        {
          "output_type": "stream",
          "name": "stdout",
          "text": [
            "['Green', 'White', 'Black']\n"
          ]
        }
      ]
    },
    {
      "cell_type": "markdown",
      "source": [
        "Program to get the difference between the two lists"
      ],
      "metadata": {
        "id": "z1cvsXPw5wqo"
      }
    },
    {
      "cell_type": "code",
      "source": [
        "list1=[10,20,30,40,50]\n",
        "list2=[1,2,3,4]\n",
        "a=set(list1)\n",
        "b=set(list2)\n",
        "print(a)\n",
        "print(b)\n",
        "c=a.difference(b)\n",
        "print(c)\n",
        "x=list(a)\n",
        "y=list(b)\n",
        "print(x)\n",
        "print(y)\n",
        "\n",
        "\n"
      ],
      "metadata": {
        "colab": {
          "base_uri": "https://localhost:8080/"
        },
        "id": "nXAioRY25ytX",
        "outputId": "8965de1f-71ec-4859-fa34-162208740fe2"
      },
      "execution_count": 17,
      "outputs": [
        {
          "output_type": "stream",
          "name": "stdout",
          "text": [
            "{40, 10, 50, 20, 30}\n",
            "{1, 2, 3, 4}\n",
            "{40, 10, 50, 20, 30}\n",
            "[40, 10, 50, 20, 30]\n",
            "[1, 2, 3, 4]\n"
          ]
        }
      ]
    },
    {
      "cell_type": "code",
      "source": [
        "Program to remove a key from a dictionary"
      ],
      "metadata": {
        "id": "e4qNyzquBGRf"
      },
      "execution_count": null,
      "outputs": []
    },
    {
      "cell_type": "code",
      "source": [
        "food={\"dish\":\"chicken\",\"flavour\":\"spicy\",\"pieces\":\"6\"}\n",
        "print(food)\n",
        "if 'dish' in food:\n",
        "    del food[\"pieces\"]\n",
        "print(food)"
      ],
      "metadata": {
        "colab": {
          "base_uri": "https://localhost:8080/"
        },
        "id": "u3QWpevjBLDQ",
        "outputId": "4644a52b-6519-45c6-9093-162c3f704765"
      },
      "execution_count": 32,
      "outputs": [
        {
          "output_type": "stream",
          "name": "stdout",
          "text": [
            "{'dish': 'chicken', 'flavour': 'spicy', 'pieces': '6'}\n",
            "{'dish': 'chicken', 'flavour': 'spicy'}\n"
          ]
        }
      ]
    },
    {
      "cell_type": "markdown",
      "source": [
        "Python function that accepts a string and calculates the number of uppercase\n",
        "letters and lowercase letters."
      ],
      "metadata": {
        "id": "cs0FkCcVEAjM"
      }
    },
    {
      "cell_type": "code",
      "source": [
        "def string_test(s):\n",
        "    d={\"UPPER_CASE\":0, \"LOWER_CASE\":0}\n",
        "    for c in s:\n",
        "        if c.isupper():\n",
        "           d[\"UPPER_CASE\"]+=1\n",
        "        elif c.islower():\n",
        "           d[\"LOWER_CASE\"]+=1\n",
        "        else:\n",
        "           pass\n",
        "    print (\"Original String : \", s)\n",
        "    print (\"No. of Upper case characters : \", d[\"UPPER_CASE\"])\n",
        "    print (\"No. of Lower case Characters : \", d[\"LOWER_CASE\"])\n",
        "\n",
        "string_test('I am a fan of BTS and BLACKPINK')"
      ],
      "metadata": {
        "colab": {
          "base_uri": "https://localhost:8080/"
        },
        "id": "BsgwE9fhDxWu",
        "outputId": "b9e36d3d-5b97-445a-9b08-60b51cca2108"
      },
      "execution_count": 40,
      "outputs": [
        {
          "output_type": "stream",
          "name": "stdout",
          "text": [
            "Original String :  I am a fan of BTS and BLACKPINK\n",
            "No. of Upper case characters :  13\n",
            "No. of Lower case Characters :  11\n"
          ]
        }
      ]
    },
    {
      "cell_type": "markdown",
      "source": [
        "Program to get the maximum and minimum value in a dictionary"
      ],
      "metadata": {
        "id": "kL1DrkvJFZFw"
      }
    },
    {
      "cell_type": "code",
      "source": [
        "food={\"dish\":\"chicken\",\"flavour\":\"spicy\",\"pieces\":\"6\"}\n",
        "min_key = min(food, key=food.get)\n",
        "max_key = max(food, key=food.get)\n",
        "print(food.get(min_key))\n",
        "print(food.get(max_key))"
      ],
      "metadata": {
        "colab": {
          "base_uri": "https://localhost:8080/"
        },
        "id": "RMTJg8CNFb7g",
        "outputId": "c522e8bb-38b9-4c07-96d6-fdaa7413952b"
      },
      "execution_count": 39,
      "outputs": [
        {
          "output_type": "stream",
          "name": "stdout",
          "text": [
            "6\n",
            "spicy\n"
          ]
        }
      ]
    },
    {
      "cell_type": "markdown",
      "source": [
        "Given a list of numbers of list, write a Python program to create a list of tuples\n",
        "having first element as the number and second element as the square of the\n",
        "number."
      ],
      "metadata": {
        "id": "-fyeEJJ_IOtk"
      }
    },
    {
      "cell_type": "code",
      "source": [
        "x = [10,20,30,40,50]\n",
        "print(\"The list is\")\n",
        "print(x)\n",
        "print(\"The resultant tuple is :\")\n",
        "result = [(val, pow(val, 2)) for val in x]\n",
        "print(result)"
      ],
      "metadata": {
        "colab": {
          "base_uri": "https://localhost:8080/"
        },
        "id": "8YTvGdTqITMl",
        "outputId": "95de0325-97ba-419e-862a-4d2377e460af"
      },
      "execution_count": 47,
      "outputs": [
        {
          "output_type": "stream",
          "name": "stdout",
          "text": [
            "The list is\n",
            "[10, 20, 30, 40, 50]\n",
            "The resultant tuple is :\n",
            "[(10, 100), (20, 400), (30, 900), (40, 1600), (50, 2500)]\n"
          ]
        }
      ]
    }
  ]
}