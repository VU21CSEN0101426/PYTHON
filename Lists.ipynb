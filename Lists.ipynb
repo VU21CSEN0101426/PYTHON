{
  "nbformat": 4,
  "nbformat_minor": 0,
  "metadata": {
    "colab": {
      "name": "Lists",
      "provenance": [],
      "authorship_tag": "ABX9TyMndNL2mwnLcv2M6+BlYmB7",
      "include_colab_link": true
    },
    "kernelspec": {
      "name": "python3",
      "display_name": "Python 3"
    },
    "language_info": {
      "name": "python"
    }
  },
  "cells": [
    {
      "cell_type": "markdown",
      "metadata": {
        "id": "view-in-github",
        "colab_type": "text"
      },
      "source": [
        "<a href=\"https://colab.research.google.com/github/VU21CSEN0101426/PYTHON/blob/main/Lists.ipynb\" target=\"_parent\"><img src=\"https://colab.research.google.com/assets/colab-badge.svg\" alt=\"Open In Colab\"/></a>"
      ]
    },
    {
      "cell_type": "code",
      "execution_count": 7,
      "metadata": {
        "colab": {
          "base_uri": "https://localhost:8080/"
        },
        "id": "PlFFHpAlUeBr",
        "outputId": "ee8376e7-65c5-4f23-c4cb-85169d8d5827"
      },
      "outputs": [
        {
          "output_type": "stream",
          "name": "stdout",
          "text": [
            "['apple', 'banana', 'guvava', 'watermelon', 'black berry']\n",
            "['apple', 'banana', 'guvava']\n",
            "['apple', 'banana']\n",
            "['banana']\n"
          ]
        }
      ],
      "source": [
        "print(fruit)\n",
        "print(fruit[0:3])\n",
        "print(fruit[:2])\n",
        "print(fruit[1:2])"
      ]
    },
    {
      "cell_type": "code",
      "source": [
        "fruit=['apple','mango','guvava','banana']\n",
        "print(fruit)\n",
        "fruit.append('jackfruit')\n",
        "print(fruit)\n"
      ],
      "metadata": {
        "colab": {
          "base_uri": "https://localhost:8080/"
        },
        "id": "Cf7FaQJ4ZvgH",
        "outputId": "ae2fe590-7c38-4d57-9180-0b2e4c8c029c"
      },
      "execution_count": 22,
      "outputs": [
        {
          "output_type": "stream",
          "name": "stdout",
          "text": [
            "['apple', 'mango', 'guvava', 'banana']\n",
            "['apple', 'mango', 'guvava', 'banana', 'jackfruit']\n"
          ]
        }
      ]
    },
    {
      "cell_type": "code",
      "source": [
        "fruit=['apple','mango','guava','banana']\n",
        "print(fruit)\n",
        "fruit.append('jackfruit')\n",
        "print(fruit)\n",
        "fruit.insert(2,'orange')\n",
        "print(fruit)\n",
        "fruit.insert(2,'kiwi')\n",
        "print(fruit)\n",
        "fruit.remove('mango')\n",
        "print(fruit)\n",
        "fruit.pop(2)\n",
        "print(fruit)\n",
        "print(type(fruit))\n",
        "num=[4,3,9,6,2]\n",
        "num.sort()\n",
        "print (num)\n",
        "veg=['potato','cabbage','onion']\n",
        "fruit.extend(veg)\n",
        "print(fruit)\n",
        "fruit.sort(reverse =True)\n",
        "print(fruit)\n",
        "alpha=['Mango','cabbage','Apple','Guava']\n",
        "alpha.sort()\n",
        "print(fruit)\n",
        "print(length) \n",
        "\n"
      ],
      "metadata": {
        "colab": {
          "base_uri": "https://localhost:8080/"
        },
        "outputId": "dd8bf3b6-9e11-49db-8606-59eccb5dfbde",
        "id": "qxb5fMmCduca"
      },
      "execution_count": 36,
      "outputs": [
        {
          "output_type": "stream",
          "name": "stdout",
          "text": [
            "['apple', 'mango', 'guava', 'banana']\n",
            "['apple', 'mango', 'guava', 'banana', 'jackfruit']\n",
            "['apple', 'mango', 'orange', 'guava', 'banana', 'jackfruit']\n",
            "['apple', 'mango', 'kiwi', 'orange', 'guava', 'banana', 'jackfruit']\n",
            "['apple', 'kiwi', 'orange', 'guava', 'banana', 'jackfruit']\n",
            "['apple', 'kiwi', 'guava', 'banana', 'jackfruit']\n",
            "<class 'list'>\n",
            "[2, 3, 4, 6, 9]\n",
            "['apple', 'kiwi', 'guava', 'banana', 'jackfruit', 'potato', 'cabbage', 'onion']\n",
            "['potato', 'onion', 'kiwi', 'jackfruit', 'guava', 'cabbage', 'banana', 'apple']\n",
            "['potato', 'onion', 'kiwi', 'jackfruit', 'guava', 'cabbage', 'banana', 'apple']\n"
          ]
        }
      ]
    },
    {
      "cell_type": "code",
      "source": [
        ""
      ],
      "metadata": {
        "id": "XLsEv_INlMNG"
      },
      "execution_count": null,
      "outputs": []
    },
    {
      "cell_type": "code",
      "source": [
        ""
      ],
      "metadata": {
        "id": "RUPcl4bEeILI"
      },
      "execution_count": null,
      "outputs": []
    }
  ]
}