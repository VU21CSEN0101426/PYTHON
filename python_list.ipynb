{
  "nbformat": 4,
  "nbformat_minor": 0,
  "metadata": {
    "colab": {
      "name": "python list",
      "provenance": [],
      "authorship_tag": "ABX9TyOa2fvkqNyS8hZK9PFx/rEf",
      "include_colab_link": true
    },
    "kernelspec": {
      "name": "python3",
      "display_name": "Python 3"
    },
    "language_info": {
      "name": "python"
    }
  },
  "cells": [
    {
      "cell_type": "markdown",
      "metadata": {
        "id": "view-in-github",
        "colab_type": "text"
      },
      "source": [
        "<a href=\"https://colab.research.google.com/github/VU21CSEN0101426/PYTHON/blob/main/python_list.ipynb\" target=\"_parent\"><img src=\"https://colab.research.google.com/assets/colab-badge.svg\" alt=\"Open In Colab\"/></a>"
      ]
    },
    {
      "cell_type": "code",
      "execution_count": null,
      "metadata": {
        "colab": {
          "base_uri": "https://localhost:8080/"
        },
        "id": "wU2tYBL3rtck",
        "outputId": "68487dff-483f-4d3c-9709-8fad07fb7e3f"
      },
      "outputs": [
        {
          "output_type": "stream",
          "name": "stdout",
          "text": [
            "['apple', 'mango', 'guava', 'cherry', 'potato', 'brinjal', 'carrot']\n",
            "['apple', 'mango', 'guava', 'potato', 'brinjal', 'carrot']\n",
            "['apple', 'mango', 'guava', 'potato', 'carrot']\n",
            "['potato', 'mango', 'guava', 'carrot', 'apple']\n",
            "['apple', 'carrot', 'guava', 'mango', 'potato']\n",
            "['apple', 'carrot', 'guava', 'mango', 'potato', 'potato', 'brinjal', 'carrot', 'sunflower', 'lily', 'rose']\n",
            "['apple', 'carrot', 'guava', 'mango', 'potato', 'potato', 'brinjal', 'carrot', 'sunflower', 'lily', 'rose', 'ram', 'ravi', 'sai']\n",
            "['apple', 'carrot', 'guava', 'mango', 'potato', 'potato', 'brinjal', 'carrot', 'sunflower', 'lily', 'rose', 'ram', 'ravi', 'sai']\n"
          ]
        }
      ],
      "source": [
        "fruit=['apple','mango','guava','cherry']\n",
        "veg=['potato','brinjal','carrot']\n",
        "flower=['sunflower','lily','rose']\n",
        "fruit.extend(veg)\n",
        "print(fruit)\n",
        "fruit.remove('cherry')\n",
        "print(fruit)\n",
        "fruit.pop(4)\n",
        "print(fruit)\n",
        "fruit.sort(reverse= True)\n",
        "print(fruit)\n",
        "fruit.reverse()\n",
        "print(fruit)\n",
        "things= fruit+ veg+ flower\n",
        "print(things)\n",
        "name=['ram','ravi','sai']\n",
        "things.extend(name)\n",
        "print(things)\n",
        "things.index('carrot')\n",
        "print(things)"
      ]
    },
    {
      "cell_type": "code",
      "source": [
        "a=5;\n",
        "b=4;\n",
        "c=3;\n",
        "if (a>b and a>c)\n",
        "  printf(\"5\");\n",
        "elif (b>c and b>a)\n",
        "  printf(\"4\");\n",
        "elif (c>a and c>b)\n",
        "  printf(\"3\"); "
      ],
      "metadata": {
        "colab": {
          "base_uri": "https://localhost:8080/",
          "height": 135
        },
        "id": "I1L6yIHPzgV8",
        "outputId": "6589f29a-94f2-45d4-ef97-512c88794665"
      },
      "execution_count": null,
      "outputs": [
        {
          "output_type": "error",
          "ename": "SyntaxError",
          "evalue": "ignored",
          "traceback": [
            "\u001b[0;36m  File \u001b[0;32m\"<ipython-input-22-558551728487>\"\u001b[0;36m, line \u001b[0;32m4\u001b[0m\n\u001b[0;31m    if (a>b and a>c)\u001b[0m\n\u001b[0m                    ^\u001b[0m\n\u001b[0;31mSyntaxError\u001b[0m\u001b[0;31m:\u001b[0m invalid syntax\n"
          ]
        }
      ]
    },
    {
      "cell_type": "code",
      "source": [
        ""
      ],
      "metadata": {
        "id": "_AmQ6k0gvw0h"
      },
      "execution_count": null,
      "outputs": []
    }
  ]
}